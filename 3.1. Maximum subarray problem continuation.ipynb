{
 "cells": [
  {
   "cell_type": "code",
   "execution_count": 22,
   "metadata": {},
   "outputs": [],
   "source": [
    "def max_crossing_subarr(arr, low, high):\n",
    "    if low == high:\n",
    "        return arr[low], low, high\n",
    "    \n",
    "    mid = math.ceil((low + high) / 2)\n",
    "    max_sum = -float('inf')\n",
    "    sum_low = 0\n",
    "    new_low = low\n",
    "    for i in range(mid, low - 1, -1):\n",
    "        sum_low += arr[i]\n",
    "        if sum_low >= max_sum:\n",
    "            max_sum = sum_low\n",
    "            new_low = i\n",
    "            \n",
    "    max_sum = -float('inf')  \n",
    "    sum_high = 0\n",
    "    new_high = low\n",
    "    for i in range(mid, high + 1):\n",
    "        sum_high += arr[i]\n",
    "        if sum_high >= max_sum:\n",
    "            max_sum = sum_high\n",
    "            new_high = i\n",
    "            \n",
    "    return sum_low + sum_high, low, high\n",
    "\n",
    "def max_subarr(arr, low, high):\n",
    "    if low == high:\n",
    "        return (arr[low], low, high)\n",
    "    \n",
    "    mid = math.ceil((low + high) / 2)\n",
    "    (left_max_sum, left_low, left_high) = max_subarr(arr, low, mid - 1)\n",
    "    (right_max_sum, right_low, right_high) = max_subarr(arr, mid, high)\n",
    "    (crossing_max_sum, crossing_low, crossing_high) = max_crossing_subarr(arr, low, high)\n",
    "    \n",
    "    if left_max_sum >= max(right_max_sum, crossing_max_sum):\n",
    "        return left_max_sum, left_low, left_high\n",
    "    \n",
    "    if right_max_sum >= max(left_max_sum, crossing_max_sum):\n",
    "        return right_max_sum, right_low, right_high\n",
    "    \n",
    "    if crossing_max_sum >= max(left_max_sum, right_max_sum):\n",
    "        return crossing_max_sum, crossing_low, crossing_high   "
   ]
  },
  {
   "cell_type": "code",
   "execution_count": 23,
   "metadata": {},
   "outputs": [
    {
     "data": {
      "text/plain": [
       "(20, 9, 11)"
      ]
     },
     "execution_count": 23,
     "metadata": {},
     "output_type": "execute_result"
    }
   ],
   "source": [
    "arr = [0, -2, 4, 2, -60, 2, 5, -7, -2, 4, 5, 6]\n",
    "max_subarr(arr, 0, len(arr) - 1)"
   ]
  },
  {
   "cell_type": "code",
   "execution_count": 30,
   "metadata": {},
   "outputs": [],
   "source": [
    "def incremental_max_subarray(x, mx):\n",
    "    max_sum = -float('inf')\n",
    "    cur_sum = 0\n",
    "    \n",
    "    for i in range(len(x) - 1, -1, -1):\n",
    "        cur_sum += x[i]\n",
    "        if cur_sum > max_sum:\n",
    "            max_sum = cur_sum\n",
    "            \n",
    "    if max_sum > mx:\n",
    "        return max_sum\n",
    "    else:\n",
    "        return mx"
   ]
  },
  {
   "cell_type": "code",
   "execution_count": 32,
   "metadata": {},
   "outputs": [
    {
     "data": {
      "text/plain": [
       "20"
      ]
     },
     "execution_count": 32,
     "metadata": {},
     "output_type": "execute_result"
    }
   ],
   "source": [
    "incremental_max_subarray(arr + [5], max_subarr(arr, 0, len(arr) - 1)[0])"
   ]
  },
  {
   "cell_type": "code",
   "execution_count": null,
   "metadata": {},
   "outputs": [],
   "source": []
  }
 ],
 "metadata": {
  "kernelspec": {
   "display_name": "Python 3",
   "language": "python",
   "name": "python3"
  },
  "language_info": {
   "codemirror_mode": {
    "name": "ipython",
    "version": 3
   },
   "file_extension": ".py",
   "mimetype": "text/x-python",
   "name": "python",
   "nbconvert_exporter": "python",
   "pygments_lexer": "ipython3",
   "version": "3.7.0"
  }
 },
 "nbformat": 4,
 "nbformat_minor": 2
}
