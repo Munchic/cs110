{
 "cells": [
  {
   "cell_type": "code",
   "execution_count": 35,
   "metadata": {},
   "outputs": [
    {
     "data": {
      "text/plain": [
       "8"
      ]
     },
     "execution_count": 35,
     "metadata": {},
     "output_type": "execute_result"
    }
   ],
   "source": [
    "def fib(n):\n",
    "    res_storage = [1, 1] + [0] * (n - 1)\n",
    "    return _fib(n, res_storage)\n",
    "\n",
    "def _fib(n, r):\n",
    "    if r[n] != 0:\n",
    "        return r[n]\n",
    "    r[n] = _fib(n - 1, r) + _fib(n - 2, r)\n",
    "    return r[n]\n",
    "    \n",
    "fib(5)"
   ]
  },
  {
   "cell_type": "code",
   "execution_count": 3,
   "metadata": {},
   "outputs": [
    {
     "data": {
      "text/plain": [
       "13"
      ]
     },
     "execution_count": 3,
     "metadata": {},
     "output_type": "execute_result"
    }
   ],
   "source": [
    "def fib_bottom_up(n):\n",
    "    res_storage = [1, 1]\n",
    "    for j in range(2, n + 1):\n",
    "        res_storage.append(res_storage[j - 1] + res_storage[j - 2])\n",
    "        \n",
    "    return res_storage[n]\n",
    "\n",
    "fib_bottom_up(6)"
   ]
  },
  {
   "cell_type": "code",
   "execution_count": 4,
   "metadata": {},
   "outputs": [],
   "source": [
    "def cut_rod(p, n):\n",
    "    if n == 0:\n",
    "        return 0\n",
    "    \n",
    "    q = p[0]\n",
    "    for i in range(1, n):\n",
    "        q = max(q, p[i] + cut_rod(p, n - i))\n",
    "    return q"
   ]
  },
  {
   "cell_type": "code",
   "execution_count": 46,
   "metadata": {},
   "outputs": [
    {
     "data": {
      "image/png": "[encoded data removed]",
      "text/plain": [
       "<Figure size 432x288 with 1 Axes>"
      ]
     },
     "metadata": {},
     "output_type": "display_data"
    }
   ],
   "source": [
    "import time\n",
    "from random import randint\n",
    "from matplotlib import pyplot as plt\n",
    "\n",
    "N = 12\n",
    "\n",
    "price_table = []\n",
    "for i in range(N):\n",
    "    elem = randint(i, i + 5*i)\n",
    "    price_table.append(elem)\n",
    "\n",
    "runtimes = []\n",
    "for n in range(N):\n",
    "    start = time.time()\n",
    "    cut_rod(price_table, n)\n",
    "    runtimes.append(time.time() - start)\n",
    "    \n",
    "plt.plot(range(N), runtimes)\n",
    "plt.show()"
   ]
  },
  {
   "cell_type": "code",
   "execution_count": 50,
   "metadata": {},
   "outputs": [
    {
     "name": "stdout",
     "output_type": "stream",
     "text": [
      "1\n",
      "1\n",
      "3\n"
     ]
    }
   ],
   "source": [
    "def cut_rod_bottom_up(p, n):\n",
    "    best_res = [0] * (n + 1)\n",
    "    sol_storage = [0] * (n + 1)\n",
    "    \n",
    "    for j in range(1, n + 1):\n",
    "        cur_best = p[0]\n",
    "        for i in range(1, j + 1):\n",
    "            if cur_best < p[i] + best_res[j - i]:\n",
    "                cur_best = p[i] + best_res[j - i]\n",
    "                sol_storage[j] = i\n",
    "        best_res[j] = cur_best\n",
    "        \n",
    "    return best_res, sol_storage\n",
    "\n",
    "def print_cut_rod_solution(p, n):\n",
    "    _, solutions = cut_rod_bottom_up(p, n)\n",
    "    while n > 0:\n",
    "        print(solutions[n])\n",
    "        n = n - solutions[n]\n",
    "        \n",
    "print_cut_rod_solution(price_table, 5)"
   ]
  },
  {
   "cell_type": "code",
   "execution_count": null,
   "metadata": {},
   "outputs": [],
   "source": []
  }
 ],
 "metadata": {
  "kernelspec": {
   "display_name": "Python 3",
   "language": "python",
   "name": "python3"
  },
  "language_info": {
   "codemirror_mode": {
    "name": "ipython",
    "version": 3
   },
   "file_extension": ".py",
   "mimetype": "text/x-python",
   "name": "python",
   "nbconvert_exporter": "python",
   "pygments_lexer": "ipython3",
   "version": "3.7.0"
  }
 },
 "nbformat": 4,
 "nbformat_minor": 2
}
