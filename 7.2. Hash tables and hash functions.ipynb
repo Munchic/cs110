{
 "cells": [
  {
   "cell_type": "markdown",
   "metadata": {},
   "source": [
    "### 11-1.1\n",
    "O(m) because we would have to go though each key to check if \n",
    "1. Element exists\n",
    "2. Element is bigger than current maximum\n",
    "\n",
    "### 11-1.2\n",
    "Because we have no sattelite data (values), then we can just use a bit at position k as whether element k exists\n",
    "\n",
    "### 11-1.3\n",
    "1. Insert -> append new element to beginning of the doubly-linked list\n",
    "2. Delete -> delete an elem in O(1), knowing the ptr to it in a doubly-linked list\n",
    "3. Search -> T[k]\n",
    "\n",
    "### Social security\n",
    "Should be possible.\n",
    "In total we have 9 positions in a social security number, meaning, 10^9 combinations. To store each digit, we need 4 bits (to code for 0-9) => 36 bit in total for one SSN. Then, the total amount of storage we need is 36 bit * 10^9 = 4.5 GB, which is very possible to store.\n",
    "\n",
    "### Chained hash-table"
   ]
  },
  {
   "cell_type": "code",
   "execution_count": 3,
   "metadata": {},
   "outputs": [],
   "source": [
    "import random\n",
    "import string\n",
    "\n",
    "\n",
    "def randomword(length):\n",
    "    return ''.join(random.choice(string.lowercase) for i in range(length))\n",
    "\n",
    "\n",
    "def empty_hash_table(N):\n",
    "    return [[] for n in range(N)]\n",
    "\n",
    "\n",
    "def add_to_hash_table(hash_table, item, hash_function):\n",
    "    N = len(hash_table)\n",
    "    if not contains(hash_table, item, hash_function):\n",
    "        hash_table[hash_function(item)] = item\n",
    "    else:\n",
    "        pass # do chaining here but idk how do make linked lists in Python haha\n",
    "    return hash_table\n",
    "\n",
    "\n",
    "def contains(hash_table, item, hash_function):\n",
    "    N = len(hash_table)\n",
    "    if hash_table[hash_function(item)] != null:\n",
    "        return True\n",
    "    return False\n",
    "\n",
    "\n",
    "def remove(hash_table, item, hash_function):\n",
    "    if not contains(hash_table, item, hash_function):\n",
    "        raise ValueError()\n",
    "    else:\n",
    "        del hash_table[hash_function(item)]\n",
    "        \n",
    "    return hash_table\n",
    "\n",
    "\n",
    "def hash_str1(string):\n",
    "    ans = 0\n",
    "    for chr in string:\n",
    "        ans += ord(chr)\n",
    "    return ans\n",
    "\n",
    "\n",
    "def hash_str2(string):\n",
    "    ans = 0\n",
    "    for chr in string:\n",
    "        ans = ans ^ ord(chr)\n",
    "    return ans\n",
    "\n",
    "\n",
    "def hash_str3(string):\n",
    "    ans = 0\n",
    "    for chr in string:\n",
    "        ans = ans * 128 + ord(chr)\n",
    "    return ans\n",
    "\n",
    "\n",
    "def hash_str4(string):\n",
    "    random.seed(ord(string[0]))\n",
    "    return random.getrandbits(32)"
   ]
  },
  {
   "cell_type": "markdown",
   "metadata": {},
   "source": [
    "### Direct Address Tables"
   ]
  },
  {
   "cell_type": "code",
   "execution_count": null,
   "metadata": {},
   "outputs": [],
   "source": [
    "N = 10000\n",
    "\n",
    "def add_to_hash_table(hash_table, direction, correctness, turn):\n",
    "    hash_table = {\n",
    "        up: [0 for i in range(N)],\n",
    "        down: [0 for i in range(N)]\n",
    "    }\n",
    "    \n",
    "    if direction == \"up\":\n",
    "        hash_table.up[turn] = correctness\n",
    "        hash_table.down[turn] = nu\n",
    "    "
   ]
  }
 ],
 "metadata": {
  "kernelspec": {
   "display_name": "Python 3",
   "language": "python",
   "name": "python3"
  },
  "language_info": {
   "codemirror_mode": {
    "name": "ipython",
    "version": 3
   },
   "file_extension": ".py",
   "mimetype": "text/x-python",
   "name": "python",
   "nbconvert_exporter": "python",
   "pygments_lexer": "ipython3",
   "version": "3.7.0"
  }
 },
 "nbformat": 4,
 "nbformat_minor": 2
}
