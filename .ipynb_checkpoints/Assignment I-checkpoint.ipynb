{
 "cells": [
  {
   "cell_type": "markdown",
   "metadata": {},
   "source": [
    "# Assignment 1 - CS110"
   ]
  },
  {
   "cell_type": "markdown",
   "metadata": {},
   "source": [
    "## Task 1"
   ]
  },
  {
   "cell_type": "markdown",
   "metadata": {},
   "source": [
    "(#sort) Implement three-way merge sort in Python. It should at a minimum accept lists of integers as input."
   ]
  },
  {
   "cell_type": "code",
   "execution_count": 11,
   "metadata": {},
   "outputs": [],
   "source": [
    "def merge(arr0, arr1, arr2):\n",
    "    mrg_arr = []\n",
    "    ptrs = [0, 0, 0]\n",
    "    \n",
    "    inf_num = float('inf')\n",
    "    arr0.append(inf_num)\n",
    "    arr1.append(inf_num)\n",
    "    arr2.append(inf_num)\n",
    "    \n",
    "    while [arr0[ptrs[0]], arr1[ptrs[1]], arr2[ptrs[2]]] != [inf_num, inf_num, inf_num]:\n",
    "        if inf_num > arr0[ptrs[0]] <= min(arr1[ptrs[1]], arr2[ptrs[2]]):\n",
    "            mrg_arr.append(arr0[ptrs[0]])\n",
    "            ptrs[0] += 1\n",
    "            \n",
    "        if inf_num > arr1[ptrs[1]] <= min(arr0[ptrs[0]], arr2[ptrs[2]]):\n",
    "            mrg_arr.append(arr1[ptrs[1]])\n",
    "            ptrs[1] += 1\n",
    "            \n",
    "        if inf_num > arr2[ptrs[2]] <= min(arr0[ptrs[0]], arr1[ptrs[1]]):\n",
    "            mrg_arr.append(arr2[ptrs[2]])\n",
    "            ptrs[2] += 1\n",
    "    \n",
    "    return mrg_arr\n",
    "    \n",
    "    \n",
    "def merge_sort(arr):\n",
    "    if len(arr) == 1:\n",
    "        return arr\n",
    "    \n",
    "    if len(arr) == 2:\n",
    "        if arr[0] > arr[1]:\n",
    "            arr[0], arr[1] = arr[1], arr[0]\n",
    "        return arr\n",
    "    \n",
    "    left_mid = len(arr) // 3\n",
    "    # split the excess evenly b/w mid & right partitions\n",
    "    right_mid = len(arr) // 3 * 2 + (len(arr) % 3) // 2 \n",
    "    \n",
    "    left_part = merge_sort(arr[:left_mid])\n",
    "    mid_part = merge_sort(arr[left_mid:right_mid])\n",
    "    right_part = merge_sort(arr[right_mid:])\n",
    "    \n",
    "    return merge(left_part, mid_part, right_part)    "
   ]
  },
  {
   "cell_type": "code",
   "execution_count": 12,
   "metadata": {},
   "outputs": [],
   "source": [
    "from random import randint\n",
    "\n",
    "list_of_lists = []\n",
    "for i in range(1, 100):\n",
    "    list_of_lists.append([ 0 for j in range(randint(1, 24)) ])\n",
    "    \n",
    "for i in range(len(list_of_lists)):\n",
    "    for j in range(len(list_of_lists[i])):\n",
    "        list_of_lists[i][j] = randint(0, 10)"
   ]
  },
  {
   "cell_type": "code",
   "execution_count": 13,
   "metadata": {},
   "outputs": [
    {
     "name": "stdout",
     "output_type": "stream",
     "text": [
      "('Original list:', [7, 4, 3, 6, 3, 2, 0, 8, 7, 2, 2, 5, 3, 10, 6, 3, 5, 9, 4, 2, 8])\n",
      "('Sorted list:', [0, 2, 2, 2, 2, 3, 3, 3, 3, 4, 4, 5, 5, 6, 6, 7, 7, 8, 8, 9, 10])\n"
     ]
    }
   ],
   "source": [
    "print(\"Original list:\", list_of_lists[0])\n",
    "print(\"Sorted list:\", merge_sort(list_of_lists[0]))"
   ]
  },
  {
   "cell_type": "markdown",
   "metadata": {},
   "source": [
    "## Task 2"
   ]
  },
  {
   "cell_type": "markdown",
   "metadata": {},
   "source": [
    "(#sort) Implement a second version of three-way merge sort that calls insertion sort when sublists are below a certain length (of your choice) rather than continuing the subdivision process."
   ]
  },
  {
   "cell_type": "code",
   "execution_count": 20,
   "metadata": {},
   "outputs": [],
   "source": [
    "def insertion_sort(arr):\n",
    "    for i in range(len(arr) - 1):\n",
    "        j = i + 1\n",
    "        while arr[j] < arr[j - 1] and j >= 1:\n",
    "            arr[j], arr[j - 1] = arr[j - 1], arr[j]\n",
    "            j -= 1\n",
    "            \n",
    "    return arr\n",
    "\n",
    "def merge_sort(arr):\n",
    "    if len(arr) < 15:\n",
    "        return insertion_sort(arr)\n",
    "    \n",
    "    left_mid = len(arr) // 3\n",
    "    # split the excess evenly b/w mid & right partitions\n",
    "    right_mid = len(arr) // 3 * 2 + (len(arr) % 3) // 2 \n",
    "    \n",
    "    left_part = merge_sort(arr[:left_mid])\n",
    "    mid_part = merge_sort(arr[left_mid:right_mid])\n",
    "    right_part = merge_sort(arr[right_mid:])\n",
    "    \n",
    "    return merge(left_part, mid_part, right_part) "
   ]
  },
  {
   "cell_type": "code",
   "execution_count": 25,
   "metadata": {},
   "outputs": [
    {
     "name": "stdout",
     "output_type": "stream",
     "text": [
      "('Original list:', [2, 10, 2, 3, 7, 7, 6, 3, 6, 2, 10, 10, 0, 7, 10, 5, 1, 7, 1, 8, 9])\n",
      "('Sorted list:', [0, 1, 1, 2, 2, 2, 3, 3, 5, 6, 6, 7, 7, 7, 7, 8, 9, 10, 10, 10, 10])\n",
      "('Original list:', [2, 10, 2, 3, 7, 7, 6, 3, 6, 2, 10, 10, 0, 7, 10, 5, 1, 7, 1, 8, 9])\n"
     ]
    }
   ],
   "source": [
    "print(\"Original list:\", list_of_lists[1])\n",
    "print(\"Sorted list:\", merge_sort(list_of_lists[1]))\n",
    "print(\"Original list:\", list_of_lists[1])"
   ]
  },
  {
   "cell_type": "code",
   "execution_count": null,
   "metadata": {},
   "outputs": [],
   "source": []
  }
 ],
 "metadata": {
  "kernelspec": {
   "display_name": "Python 2",
   "language": "python",
   "name": "python2"
  },
  "language_info": {
   "codemirror_mode": {
    "name": "ipython",
    "version": 2
   },
   "file_extension": ".py",
   "mimetype": "text/x-python",
   "name": "python",
   "nbconvert_exporter": "python",
   "pygments_lexer": "ipython2",
   "version": "2.7.15"
  }
 },
 "nbformat": 4,
 "nbformat_minor": 2
}
