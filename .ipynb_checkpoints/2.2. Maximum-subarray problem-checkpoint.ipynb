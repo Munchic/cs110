{
 "cells": [
  {
   "cell_type": "code",
   "execution_count": 14,
   "metadata": {},
   "outputs": [],
   "source": [
    "def _max_subarr(prices):\n",
    "    max_rev = 0\n",
    "    day_buy = 0\n",
    "    day_sell = 0\n",
    "    \n",
    "    for i in range(len(prices) - 1):\n",
    "        for j in range(i + 1, len(prices)):\n",
    "            if prices[j] - prices[i] >= max_rev: # >= allows for shorter wait times\n",
    "                max_rev = prices[j] - prices[i]\n",
    "                day_buy = i\n",
    "                day_sell = j\n",
    "    \n",
    "    return (day_buy, day_sell)"
   ]
  },
  {
   "cell_type": "code",
   "execution_count": 15,
   "metadata": {},
   "outputs": [
    {
     "name": "stdout",
     "output_type": "stream",
     "text": [
      "(6, 8)\n"
     ]
    }
   ],
   "source": [
    "prices = [5, 2, 3, 11, 5, 3, 2, 6, 12, 4]\n",
    "print(_max_subarr(prices))"
   ]
  },
  {
   "cell_type": "code",
   "execution_count": 21,
   "metadata": {},
   "outputs": [],
   "source": [
    "def max_subarr(prices):\n",
    "    max_rev = 0\n",
    "    day_buy = 0\n",
    "    day_sell = 0\n",
    "    \n",
    "    for i in range(len(prices) - 1):\n",
    "        accum = 0\n",
    "        for j in range(i, len(prices)):\n",
    "            accum += prices[j]\n",
    "            if accum > max_rev:\n",
    "                max_rev = accum\n",
    "                day_buy = i\n",
    "                day_sell = j\n",
    "                \n",
    "    return day_buy, day_sell"
   ]
  },
  {
   "cell_type": "code",
   "execution_count": 22,
   "metadata": {},
   "outputs": [
    {
     "name": "stdout",
     "output_type": "stream",
     "text": [
      "(0, 3)\n"
     ]
    }
   ],
   "source": [
    "prices = [5, -2, 3, 11, -5, -3, 2, -6, 12, -4]\n",
    "print(max_subarr(prices))"
   ]
  },
  {
   "cell_type": "code",
   "execution_count": null,
   "metadata": {},
   "outputs": [],
   "source": []
  }
 ],
 "metadata": {
  "kernelspec": {
   "display_name": "SageMath 8.3",
   "language": "",
   "name": "sagemath"
  },
  "language_info": {
   "codemirror_mode": {
    "name": "ipython",
    "version": 2
   },
   "file_extension": ".py",
   "mimetype": "text/x-python",
   "name": "python",
   "nbconvert_exporter": "python",
   "pygments_lexer": "ipython2",
   "version": "2.7.15"
  }
 },
 "nbformat": 4,
 "nbformat_minor": 2
}
