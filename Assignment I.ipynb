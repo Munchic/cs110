{
 "cells": [
  {
   "cell_type": "markdown",
   "metadata": {},
   "source": [
    "# Assignment 1 - CS110"
   ]
  },
  {
   "cell_type": "markdown",
   "metadata": {},
   "source": [
    "## Task 1"
   ]
  },
  {
   "cell_type": "markdown",
   "metadata": {},
   "source": [
    "(#sort) Implement three-way merge sort in Python. It should at a minimum accept lists of integers as input."
   ]
  },
  {
   "cell_type": "code",
   "execution_count": 1,
   "metadata": {},
   "outputs": [],
   "source": [
    "def merge(arr0, arr1, arr2):\n",
    "    mrg_arr = []\n",
    "    ptrs = [0, 0, 0] # pointers for each array to check which elems we're comparing\n",
    "    \n",
    "    # adding infinitely large number to the end to fill merged arr with elems from other lists when one is completed\n",
    "    inf_num = float('inf')\n",
    "    arr0.append(inf_num) \n",
    "    arr1.append(inf_num)\n",
    "    arr2.append(inf_num)\n",
    "    \n",
    "    # while at least one pointer does not point to the end (we have not finished checking at least 1 array)\n",
    "    while [arr0[ptrs[0]], arr1[ptrs[1]], arr2[ptrs[2]]] != [inf_num, inf_num, inf_num]:\n",
    "        \n",
    "        # if pointer not at the end, and the current element is the minimum\n",
    "        if inf_num > arr0[ptrs[0]] <= min(arr1[ptrs[1]], arr2[ptrs[2]]):\n",
    "            mrg_arr.append(arr0[ptrs[0]]) # add it to the merged array\n",
    "            ptrs[0] += 1 # move the pointer on this array\n",
    "            \n",
    "        if inf_num > arr1[ptrs[1]] <= min(arr0[ptrs[0]], arr2[ptrs[2]]):\n",
    "            mrg_arr.append(arr1[ptrs[1]])\n",
    "            ptrs[1] += 1\n",
    "            \n",
    "        if inf_num > arr2[ptrs[2]] <= min(arr0[ptrs[0]], arr1[ptrs[1]]):\n",
    "            mrg_arr.append(arr2[ptrs[2]])\n",
    "            ptrs[2] += 1\n",
    "    \n",
    "    return mrg_arr\n",
    "    \n",
    "    \n",
    "def merge_sort(arr):\n",
    "    # one member array is already sorted\n",
    "    if len(arr) == 1:\n",
    "        return arr \n",
    "    \n",
    "    # since we cannot three-way divide a 2-elem array, we will \"hand-sort\" it\n",
    "    if len(arr) == 2:\n",
    "        if arr[0] > arr[1]:\n",
    "            arr[0], arr[1] = arr[1], arr[0]\n",
    "        return arr\n",
    "    \n",
    "    left_mid = len(arr) // 3\n",
    "    # split the excess evenly b/w mid & right partitions\n",
    "    right_mid = len(arr) // 3 * 2 + (len(arr) % 3) // 2 \n",
    "    \n",
    "    left_part = merge_sort(arr[:left_mid]) # recursively divide partitions into smaller partitions\n",
    "    mid_part = merge_sort(arr[left_mid:right_mid])\n",
    "    right_part = merge_sort(arr[right_mid:])\n",
    "    \n",
    "    return merge(left_part, mid_part, right_part)    "
   ]
  },
  {
   "cell_type": "code",
   "execution_count": 2,
   "metadata": {},
   "outputs": [],
   "source": [
    "from random import randint\n",
    "\n",
    "# defining sizes for types of arrays we will test on to\n",
    "# compare merge + insertion sort with pure merge sort and regular merge sort with\n",
    "# 3-way mergesort on bigger size of arrays\n",
    "TOY_ARR = {\"size\": 20, \"min_len\": 100, \"max_len\": 120}\n",
    "REAL_ARR = {\"size\": 5, \"min_len\": 1e4, \"max_len\": 5e4}\n",
    "HUGE_ARR = {\"size\": 1, \"min_len\": 1e5, \"max_len\": 1e5+1}\n",
    "\n",
    "list_of_lists = []\n",
    "\n",
    "# for each type, we are creating specified number of arrays of each type of specified lengths\n",
    "for ARR in [TOY_ARR, REAL_ARR, HUGE_ARR]:\n",
    "    for i in range(ARR[\"size\"]):\n",
    "        list_of_lists.append([ 0 for j in range(randint(ARR[\"min_len\"], ARR[\"max_len\"]))])\n",
    "    \n",
    "# filling in arrays with some random numbers\n",
    "for i in range(len(list_of_lists)):\n",
    "    for j in range(len(list_of_lists[i])):\n",
    "        list_of_lists[i][j] = randint(-10, 10)"
   ]
  },
  {
   "cell_type": "code",
   "execution_count": 3,
   "metadata": {},
   "outputs": [
    {
     "name": "stdout",
     "output_type": "stream",
     "text": [
      "Original list: [6, 2, -3, -10, -7, 3, -6, 10, 5, 2, -9, -3, -3, 3, -9, -3, -9, -8, 8, 4, 6, 4, -1, -7, -6, -6, 8, -6, -4, -7, 10, -1, -3, 3, 3, 2, 7, 3, 0, 0, -10, 5, -3, 7, 7, 3, -1, 7, 9, -2, -10, -2, 7, -8, -2, -6, -6, 8, -9, -6, 9, 7, 8, 3, -5, 8, 4, 5, 5, 10, -7, -7, 5, 2, 7, -7, -2, 7, -9, -3, -7, 9, -5, -3, -2, 5, -3, 6, 6, -3, 1, 0, 1, -6, 4, -2, 3, -4, 4, -1, -10, 10, -9, -8, 5, 4, -10, 7, -7, -6, 2, 6, -2, -2, 1, 5]\n",
      "Sorted list: [-10, -10, -10, -10, -10, -9, -9, -9, -9, -9, -9, -8, -8, -8, -7, -7, -7, -7, -7, -7, -7, -7, -6, -6, -6, -6, -6, -6, -6, -6, -6, -5, -5, -4, -4, -3, -3, -3, -3, -3, -3, -3, -3, -3, -3, -2, -2, -2, -2, -2, -2, -2, -2, -1, -1, -1, -1, 0, 0, 0, 1, 1, 1, 2, 2, 2, 2, 2, 3, 3, 3, 3, 3, 3, 3, 3, 4, 4, 4, 4, 4, 4, 5, 5, 5, 5, 5, 5, 5, 5, 6, 6, 6, 6, 6, 7, 7, 7, 7, 7, 7, 7, 7, 7, 8, 8, 8, 8, 8, 9, 9, 9, 10, 10, 10, 10]\n"
     ]
    }
   ],
   "source": [
    "print(\"Original list:\", list_of_lists[0])\n",
    "print(\"Sorted list:\", merge_sort(list_of_lists[0]))"
   ]
  },
  {
   "cell_type": "markdown",
   "metadata": {},
   "source": [
    "## Task 2"
   ]
  },
  {
   "cell_type": "markdown",
   "metadata": {},
   "source": [
    "(#sort) Implement a second version of three-way merge sort that calls insertion sort when sublists are below a certain length (of your choice) rather than continuing the subdivision process."
   ]
  },
  {
   "cell_type": "code",
   "execution_count": 4,
   "metadata": {},
   "outputs": [],
   "source": [
    "def insertion_sort(arr_orig):\n",
    "    arr = arr_orig[:] # deep-copying\n",
    "    for i in range(len(arr) - 1):\n",
    "        j = i + 1\n",
    "        while arr[j] < arr[j - 1] and j >= 1:\n",
    "            arr[j], arr[j - 1] = arr[j - 1], arr[j]\n",
    "            j -= 1\n",
    "    return arr\n",
    "\n",
    "def aug_merge_sort(arr):\n",
    "    # choosing to ins-sort at 17 because it is a small enough number\n",
    "    # and 17 mod 3 = 2 => we will have very uneven subarrays\n",
    "    if len(arr) < 17:\n",
    "        return insertion_sort(arr)\n",
    "    \n",
    "    left_mid = len(arr) // 3\n",
    "    # split the excess evenly b/w mid & right partitions\n",
    "    right_mid = len(arr) // 3 * 2 + (len(arr) % 3) // 2 \n",
    "    \n",
    "    left_part = aug_merge_sort(arr[:left_mid])\n",
    "    mid_part = aug_merge_sort(arr[left_mid:right_mid])\n",
    "    right_part = aug_merge_sort(arr[right_mid:])\n",
    "    \n",
    "    return merge(left_part, mid_part, right_part) "
   ]
  },
  {
   "cell_type": "code",
   "execution_count": 5,
   "metadata": {},
   "outputs": [
    {
     "name": "stdout",
     "output_type": "stream",
     "text": [
      "Original list: [10, 2, 0, 5, -6, 3, 6, -6, -7, -9, -10, 5, -3, 3, 7, -3, -6, 7, 0, 0, -2, 1, 2, -7, -1, 7, 9, 0, 4, 9, 4, 7, 0, 4, -3, -10, 1, -4, -8, 9, -4, 9, -1, 6, 10, 4, -4, -1, -8, -8, 3, -7, -1, -6, 1, -4, 7, -9, -2, 1, -9, 10, 10, -2, 9, 6, 9, 10, -2, 8, -9, -9, 9, -8, -1, 1, 1, 7, -2, 1, -9, 6, -1, -5, 10, -4, -2, 7, -10, 5, -10, 0, 8, -10, -2, 1, -1, 0, 8, 9, -2, -10, -10, 6, 0, -3, 10, 8, -3, 1]\n",
      "Sorted list: [-10, -10, -10, -10, -10, -10, -10, -9, -9, -9, -9, -9, -9, -8, -8, -8, -8, -7, -7, -7, -6, -6, -6, -6, -5, -4, -4, -4, -4, -4, -3, -3, -3, -3, -3, -2, -2, -2, -2, -2, -2, -2, -2, -1, -1, -1, -1, -1, -1, -1, 0, 0, 0, 0, 0, 0, 0, 0, 1, 1, 1, 1, 1, 1, 1, 1, 1, 2, 2, 3, 3, 3, 4, 4, 4, 4, 5, 5, 5, 6, 6, 6, 6, 6, 7, 7, 7, 7, 7, 7, 7, 8, 8, 8, 8, 9, 9, 9, 9, 9, 9, 9, 9, 10, 10, 10, 10, 10, 10, 10]\n"
     ]
    }
   ],
   "source": [
    "print(\"Original list:\", list_of_lists[1])\n",
    "print(\"Sorted list:\", aug_merge_sort(list_of_lists[1]))"
   ]
  },
  {
   "cell_type": "markdown",
   "metadata": {},
   "source": [
    "## Task 3"
   ]
  },
  {
   "cell_type": "markdown",
   "metadata": {},
   "source": [
    "(#sort, #optimalalgorithm) Implement k-way merge sort, where the user specifies k."
   ]
  },
  {
   "cell_type": "code",
   "execution_count": 6,
   "metadata": {},
   "outputs": [],
   "source": [
    "def k_way_merge(parts):\n",
    "    k = len(parts)\n",
    "    mrg_arr = [] # array to which we will put sorted elems\n",
    "    ptrs = [0] * k # initializing list of pointers for each array\n",
    "    \n",
    "    # while at least one pointer does not point to the end (we have not finished checking at least 1 array)\n",
    "    while any([ptrs[i] < len(parts[i]) for i in range(k)]):\n",
    "        vals_to_cmp = [] # to store existing values that pointers point at\n",
    "        for i in range(k):\n",
    "            if ptrs[i] < len(parts[i]): # if pointer is still in arr\n",
    "                vals_to_cmp.append(parts[i][ptrs[i]])\n",
    "        tmp = min(vals_to_cmp) # filter to check which elements to put in array\n",
    "                                      \n",
    "        for i in range(k):\n",
    "            # check if elem exists and it is equal to the filter\n",
    "            if ptrs[i] < len(parts[i]) and tmp == parts[i][ptrs[i]]:\n",
    "                mrg_arr.append(parts[i][ptrs[i]]) # adding value at that pointer to the merge array\n",
    "                ptrs[i] += 1 # move pointer for that arr\n",
    "        \n",
    "    return mrg_arr\n",
    "\n",
    "def k_way_merge_sort(arr, k=2):\n",
    "    # if arr length is smaller than k, we cannot divide further\n",
    "    if len(arr) < max(k, 9): # 9 comes from the analysis below\n",
    "        return insertion_sort(arr)\n",
    "    \n",
    "    sep = [0] * (k + 1) # initializing array that stores seperators b/w partitions\n",
    "    excess = len(arr) % k # check how many arrays of len(arr) // k + 1 we need\n",
    "    for i in range(1, k):\n",
    "        sep[i] = sep[i-1] + (len(arr) // k)\n",
    "        if i >= k - excess:\n",
    "            sep[i] += 1\n",
    "    sep[k] = len(arr) # adding the position after last elem to include it in the last arr slice\n",
    "            \n",
    "    parts = []\n",
    "    for i in range(k):\n",
    "        parts.append(k_way_merge_sort(arr[sep[i] : sep[i + 1]])) # recursively divide partitions further\n",
    "        \n",
    "    return k_way_merge(parts)"
   ]
  },
  {
   "cell_type": "code",
   "execution_count": 7,
   "metadata": {},
   "outputs": [
    {
     "name": "stdout",
     "output_type": "stream",
     "text": [
      "Original list: [-7, 9, 6, 5, -3, -4, 0, -5, 2, 6, -4, -3, 8, -9, -5, -9, -6, 5, -10, 5, 6, -7, 5, -4, -1, -2, 0, -8, -3, 2, -3, 7, -4, -7, -5, 8, -4, 7, -9, 8, 9, 10, 4, -3, -8, -1, -6, -1, -8, 8, -1, -1, -3, 7, -1, 1, 10, 6, 5, -9, -7, -9, -1, 4, -7, 6, -1, 1, 6, -3, -4, -2, 3, 6, -7, 5, 2, -5, 8, -7, 1, 5, -4, -7, -7, -6, -5, -2, -8, -3, -3, -6, 10, 0, -2, 8, 7, 2, 0, 9, 10, -1, 8, -2, 7, -9, 3, -2, 0]\n",
      "Sorted list: [-10, -9, -9, -9, -9, -9, -9, -8, -8, -8, -8, -7, -7, -7, -7, -7, -7, -7, -7, -7, -6, -6, -6, -6, -5, -5, -5, -5, -5, -4, -4, -4, -4, -4, -4, -4, -3, -3, -3, -3, -3, -3, -3, -3, -3, -2, -2, -2, -2, -2, -2, -1, -1, -1, -1, -1, -1, -1, -1, -1, 0, 0, 0, 0, 0, 1, 1, 1, 2, 2, 2, 2, 3, 3, 4, 4, 5, 5, 5, 5, 5, 5, 5, 6, 6, 6, 6, 6, 6, 6, 7, 7, 7, 7, 7, 8, 8, 8, 8, 8, 8, 8, 9, 9, 9, 10, 10, 10, 10]\n"
     ]
    }
   ],
   "source": [
    "print(\"Original list:\", list_of_lists[3])\n",
    "print(\"Sorted list:\", k_way_merge_sort(list_of_lists[3], k=4))"
   ]
  },
  {
   "cell_type": "markdown",
   "metadata": {},
   "source": [
    "## Performance measurement"
   ]
  },
  {
   "cell_type": "markdown",
   "metadata": {},
   "source": [
    "Develop and run experiments to support a hypothesis about the “best” value of k."
   ]
  },
  {
   "cell_type": "code",
   "execution_count": 37,
   "metadata": {},
   "outputs": [
    {
     "name": "stdout",
     "output_type": "stream",
     "text": [
      "Progress: evaluated k = 10 out of 10, sorted list i = 0 out of 1 "
     ]
    }
   ],
   "source": [
    "import time\n",
    "from sys import stdout\n",
    "\n",
    "k_to_test = 10\n",
    "runtimes = []\n",
    "\n",
    "for arr in [list_of_lists[:TOY_ARR[\"size\"]],\n",
    "            list_of_lists[TOY_ARR[\"size\"]:TOY_ARR[\"size\"] + REAL_ARR[\"size\"]],\n",
    "            list_of_lists[TOY_ARR[\"size\"] + REAL_ARR[\"size\"]:]\n",
    "           ]:\n",
    "    for k in range(1, k_to_test + 1):\n",
    "        avg_runtime = 0\n",
    "\n",
    "        for i in range(len(arr)):\n",
    "            start = time.time()\n",
    "            k_way_merge_sort(arr[i], k=k)\n",
    "            end = time.time()\n",
    "            avg_runtime += end - start\n",
    "\n",
    "            stdout.write(\"\\rProgress: evaluated k = {0} out of {1}, sorted list i = {2} out of {3} \".format(k, k_to_test, i, len(arr)))\n",
    "\n",
    "        avg_runtime /= len(arr)\n",
    "        runtimes.append(avg_runtime * 1000)"
   ]
  },
  {
   "cell_type": "code",
   "execution_count": 46,
   "metadata": {},
   "outputs": [
    {
     "data": {
      "image/png": "[encoded data removed]",
      "text/plain": [
       "<Figure size 432x288 with 1 Axes>"
      ]
     },
     "metadata": {},
     "output_type": "display_data"
    },
    {
     "data": {
      "image/png": "[encoded data removed]",
      "text/plain": [
       "<Figure size 1440x360 with 1 Axes>"
      ]
     },
     "metadata": {},
     "output_type": "display_data"
    }
   ],
   "source": [
    "from matplotlib import pyplot as plt\n",
    "import numpy as np\n",
    "\n",
    "plt.xlabel('k')\n",
    "plt.ylabel('Time to sort (ms)')\n",
    "\n",
    "plt.subplots(figsize=(20, 5))\n",
    "plt.title('Time to sort with merge + insertion sort')\n",
    "plt.xticks(np.arange(0, 41, 2))\n",
    "toy_line, = plt.plot(range(1, k_to_test + 1), runtimes[:k_to_test], label=\"Array of size {0} to {1}\".format(TOY_ARR[\"min_len\"], TOY_ARR[\"max_len\"]))\n",
    "real_line, = plt.plot(range(1, k_to_test + 1), runtimes[k_to_test:2 * k_to_test], label=\"Array of size {0} to {1}\".format(int(REAL_ARR[\"min_len\"]), int(REAL_ARR[\"max_len\"])))\n",
    "huge_line, = plt.plot(range(1, k_to_test + 1), runtimes[2 * k_to_test:], label=\"Array of size {0}\".format(int(HUGE_ARR[\"min_len\"])))\n",
    "\n",
    "plt.legend(handles=[toy_line, real_line, huge_line])\n",
    "\n",
    "plt.show()"
   ]
  },
  {
   "cell_type": "code",
   "execution_count": 24,
   "metadata": {},
   "outputs": [
    {
     "data": {
      "image/png": "[encoded data removed]",
      "text/plain": [
       "<Figure size 432x288 with 1 Axes>"
      ]
     },
     "metadata": {},
     "output_type": "display_data"
    }
   ],
   "source": [
    "plt.yscale('log')\n",
    "\n",
    "plt.xlabel('k')\n",
    "plt.ylabel('Time to sort (ms)')\n",
    "\n",
    "plt.title('Time to sort with k-merge + insertion sort')\n",
    "plt.xticks(np.arange(0, 41, 2))\n",
    "toy_line, = plt.plot(range(1, k_to_test + 1), runtimes[:k_to_test], label=\"Array of size {0} to {1}\".format(TOY_ARR[\"min_len\"], TOY_ARR[\"max_len\"]))\n",
    "real_line, = plt.plot(range(1, k_to_test + 1), runtimes[k_to_test:2 * k_to_test], label=\"Array of size {0} to {1}\".format(int(REAL_ARR[\"min_len\"]), int(REAL_ARR[\"max_len\"])))\n",
    "huge_line, = plt.plot(range(1, k_to_test + 1), runtimes[2 * k_to_test:], label=\"Array of size {0}\".format(int(HUGE_ARR[\"min_len\"])))\n",
    "\n",
    "plt.legend(handles=[toy_line, real_line, huge_line])\n",
    "plt.show()"
   ]
  },
  {
   "cell_type": "markdown",
   "metadata": {},
   "source": [
    "## Performance analysis"
   ]
  },
  {
   "cell_type": "markdown",
   "metadata": {},
   "source": [
    "We can notice overall, the more elements are in the array, the longer it takes to sort them. We can also notice that with increasing k, the sorting time decreases for the \"huge\" array, but it seems to just fluctuate around the value for \"real\" and \"toy\" arrays. Most likely, the reason for huge arrays performing better on bigger k's is that the way I implemented the divide part of the algorithm involves switching to insertion sort when the length of the array is smaller than k. Then, the bigger k is, within a certain range, the faster the algorithm will switch to insertion sort, which performs better than mergesort due to different duration of processing steps in the processor. For smaller arrays, it does not matter that much because the number of memory allocations is not significant in smaller k's to make the algorithm with smaller k run noticeably slower. Moreover, we still switch to insertion sort at length = 9 at least, so there should be even less difference."
   ]
  },
  {
   "cell_type": "markdown",
   "metadata": {},
   "source": [
    "## Task 4"
   ]
  },
  {
   "cell_type": "markdown",
   "metadata": {},
   "source": [
    "(#complexity, #optimalalgorithm) Analyze and compare the practical run times of regular merge sort, three-way merge sort, and the augmented merge sort from (2). Make sure to define what each algorithm's complexity is and to enumerate the explicit assumptions made to assess each algorithm's run time. Your results should be presented in a table, along with an explanatory paragraph and any useful graphs or other charts to document your approach. Part of your analysis should indicate whether or not there is a “best” variation. Compare your benchmarks with the theoretical result we have discussed in class."
   ]
  },
  {
   "cell_type": "code",
   "execution_count": 25,
   "metadata": {},
   "outputs": [],
   "source": [
    "def merge_seqs(lhs, rhs):\n",
    "    merged_arr = []\n",
    "    l_i = 0 \n",
    "    r_i = 0\n",
    "    \n",
    "    while l_i < len(lhs) and r_i < len(rhs):\n",
    "        if lhs[l_i] <= rhs[r_i]:\n",
    "            merged_arr.append(lhs[l_i])\n",
    "            l_i += 1\n",
    "        else:\n",
    "            merged_arr.append(rhs[r_i])\n",
    "            r_i += 1\n",
    "    \n",
    "    if l_i == len(lhs):\n",
    "        while r_i < len(rhs):\n",
    "            merged_arr.append(rhs[r_i])\n",
    "            r_i += 1\n",
    "            \n",
    "    if r_i == len(rhs):\n",
    "        while l_i < len(lhs):\n",
    "            merged_arr.append(lhs[l_i])\n",
    "            l_i += 1\n",
    "    \n",
    "    return merged_arr\n",
    "\n",
    "def reg_merge_sort(arr):\n",
    "    if len(arr) == 1:\n",
    "        return arr\n",
    "    \n",
    "    center = len(arr) // 2\n",
    "    lhs = reg_merge_sort(arr[:center])\n",
    "    rhs = reg_merge_sort(arr[center:])\n",
    "    \n",
    "    merged_arr = merge_seqs(lhs, rhs)\n",
    "    \n",
    "    return merged_arr"
   ]
  },
  {
   "cell_type": "code",
   "execution_count": 26,
   "metadata": {},
   "outputs": [
    {
     "name": "stdout",
     "output_type": "stream",
     "text": [
      "[-10, -10, -10, -10, -10, -10, -10, -10, -9, -9, -8, -8, -8, -8, -7, -7, -7, -7, -6, -6, -6, -6, -6, -6, -6, -5, -5, -5, -5, -5, -5, -4, -4, -4, -3, -3, -3, -3, -2, -2, -2, -2, -2, -1, -1, -1, -1, 0, 0, 1, 1, 1, 1, 1, 1, 2, 2, 2, 2, 3, 3, 3, 3, 3, 3, 4, 4, 4, 4, 4, 4, 5, 5, 5, 5, 5, 5, 5, 6, 6, 6, 6, 6, 7, 7, 7, 7, 7, 7, 7, 7, 8, 8, 8, 8, 8, 9, 9, 9, 9, 9, 10, 10, 10, 10, 10, 10, 10]\n"
     ]
    }
   ],
   "source": [
    "print(merge_sort(list_of_lists[10]))"
   ]
  },
  {
   "cell_type": "markdown",
   "metadata": {},
   "source": [
    "## Complexity analysis"
   ]
  },
  {
   "cell_type": "markdown",
   "metadata": {},
   "source": [
    "I will write down complete complexity analysis of three-way merge sort. Analysis for others will yield the same compleity but just different number of steps.<br/>\n",
    "\n",
    "Let's start with writing out the recurrence for this algorithm: $$ T(n) = 3 * T(\\frac{n}{3}) + O(n) $$<br/> Here we divide an array to 3 subproblems and would like to add up the run time of all 3 subproblems, therefore, we're mupltiply $ T(\\frac{n}{3}) $ by 3. On the other hand, we need O(n) operations at each step because we have $ 3^i $ subproblems at layers i, each of size $ \\dfrac{n}{3^i} $ => total operations to merge subarrays into parent arrays of total length n is $ c_1(3^i * \\dfrac{n}{3^i}) + c_2 = c_1n + c_2 = O(n) $. where $ c_1, c_2 $ are constants that define the number of operations during merging (e.g. check current elems of each array and comparing them) **and** before merging (e.g. initializing a place in memory to store ordered elems).<br/>\n",
    "\n",
    "Now, we would like to find the number of such merges we're performing (or the height of the tree including the root). To do so, let's notice that at layer i, the size of a subarray is $ \\dfrac{n}{3^i} $. Let's write this out for the last layer where length of a subarray equals to 1: $$ \\dfrac{n}{3^i} = 1 => 3^i = n => i = log_3 n $$<br/> Since this assumes that i > 0 because n > 3, then to include the root, we have to add one to this. Total height of the tree = $ log_3 n + 1 $\n",
    "\n",
    "Combining with the results we get in the beginning, the total number of operations we perform is $$ (c_1n + c_2)(log_3 n + 1) = c_1 n log_3 n + c_2 log_3 n + c_1 n + c_2 = \\Theta(n*logn) $$\n",
    "\n",
    "To explain how we came to the theta notation, let's be formal and use the definition. There exists $c_a, c_b$ so that for all $n > n_0$ where n_0 is some positive number, this inequality is true: $$ c_a n logn \\leq c_1 n log_3 n + c_2 log_3 n + c_1 n + c_2 \\leq c_b n log_3 n $$\n",
    "\n",
    "$$ c_a \\leq c_1 + \\frac{c_2}{n} + \\frac{c_1}{log_3 n} - \\frac{c_2}{n log_3 n} \\leq c_b \\space (1) $$\n",
    "\n",
    "$$ c_1 \\leq c_1 + \\frac{c_2}{n} + \\frac{c_1}{log_3 n} - \\frac{c_2}{n log_3 n} \\leq 2c_1 + c_2 \\space (2)$$\n",
    "\n",
    "In (1) we divide all sides by $ nlog_3n $ and assume that $ nlogn = nlog_3n $. In (2), we fix $ c_a, c_b $ and then pick $ n_0 $ for which these conditions work. As we can observe that for $ n \\geq n_0 = 3 $, the double inequality always works. Therefore, we have picked constant scalings of the function O(logn) that can \"sandwich\" our function."
   ]
  },
  {
   "cell_type": "markdown",
   "metadata": {},
   "source": [
    "## Practical performance comparison"
   ]
  },
  {
   "cell_type": "code",
   "execution_count": 27,
   "metadata": {},
   "outputs": [
    {
     "name": "stdout",
     "output_type": "stream",
     "text": [
      "Progress: testing algorithm 2 out of 3 sorted list i = 0 out of 1 "
     ]
    }
   ],
   "source": [
    "import numpy as np\n",
    "\n",
    "runtimes = np.zeros((3, 3))\n",
    "for idx_algo, sort_algo in enumerate([merge_sort, reg_merge_sort, aug_merge_sort]):\n",
    "    for idx_arr, arr in enumerate([list_of_lists[:TOY_ARR[\"size\"]],\n",
    "                                   list_of_lists[TOY_ARR[\"size\"]:TOY_ARR[\"size\"] + REAL_ARR[\"size\"]],\n",
    "                                   list_of_lists[TOY_ARR[\"size\"] + REAL_ARR[\"size\"]:]\n",
    "                                  ]):\n",
    "        for i in range(len(arr)):\n",
    "            start = time.time()\n",
    "            sort_algo(arr[i])\n",
    "            end = time.time()\n",
    "            avg_runtime += end - start\n",
    "\n",
    "            stdout.write(\"\\rProgress: testing algorithm {0} out of 3 sorted list i = {1} out of {2} \".format(idx_algo, i, len(arr)))\n",
    "\n",
    "        avg_runtime /= len(arr)\n",
    "        runtimes[idx_algo][idx_arr] = avg_runtime * 1000"
   ]
  },
  {
   "cell_type": "code",
   "execution_count": 29,
   "metadata": {},
   "outputs": [
    {
     "data": {
      "text/html": [
       "<div>\n",
       "<style scoped>\n",
       "    .dataframe tbody tr th:only-of-type {\n",
       "        vertical-align: middle;\n",
       "    }\n",
       "\n",
       "    .dataframe tbody tr th {\n",
       "        vertical-align: top;\n",
       "    }\n",
       "\n",
       "    .dataframe thead th {\n",
       "        text-align: right;\n",
       "    }\n",
       "</style>\n",
       "<table border=\"1\" class=\"dataframe\">\n",
       "  <thead>\n",
       "    <tr style=\"text-align: right;\">\n",
       "      <th></th>\n",
       "      <th>Algorithm</th>\n",
       "      <th>Toy arrays</th>\n",
       "      <th>Real arrays</th>\n",
       "      <th>Huge array</th>\n",
       "    </tr>\n",
       "  </thead>\n",
       "  <tbody>\n",
       "    <tr>\n",
       "      <th>0</th>\n",
       "      <td>3-way mergesort</td>\n",
       "      <td>116.921902</td>\n",
       "      <td>333.100367</td>\n",
       "      <td>1373.079348</td>\n",
       "    </tr>\n",
       "    <tr>\n",
       "      <th>1</th>\n",
       "      <td>Regular mergesort</td>\n",
       "      <td>69.097247</td>\n",
       "      <td>258.687633</td>\n",
       "      <td>1103.490727</td>\n",
       "    </tr>\n",
       "    <tr>\n",
       "      <th>2</th>\n",
       "      <td>Augmented mergesort</td>\n",
       "      <td>55.541439</td>\n",
       "      <td>256.020912</td>\n",
       "      <td>1126.927980</td>\n",
       "    </tr>\n",
       "  </tbody>\n",
       "</table>\n",
       "</div>"
      ],
      "text/plain": [
       "             Algorithm  Toy arrays  Real arrays   Huge array\n",
       "0      3-way mergesort  116.921902   333.100367  1373.079348\n",
       "1    Regular mergesort   69.097247   258.687633  1103.490727\n",
       "2  Augmented mergesort   55.541439   256.020912  1126.927980"
      ]
     },
     "execution_count": 29,
     "metadata": {},
     "output_type": "execute_result"
    }
   ],
   "source": [
    "import pandas as pd\n",
    "\n",
    "df = pd.DataFrame({\n",
    "    \"Algorithm\": [\"3-way mergesort\", \"Regular mergesort\", \"Augmented mergesort\"],\n",
    "    \"Toy arrays\": runtimes[:, 0],\n",
    "    \"Real arrays\": runtimes[:, 1],\n",
    "    \"Huge array\": runtimes[:, 2]\n",
    "})\n",
    "df"
   ]
  },
  {
   "cell_type": "markdown",
   "metadata": {},
   "source": [
    "As we can observe, the fastest to sort on toy arrays is the augmented mergesort. This is because for small n, number of steps for insertion sort $ 3n^2 + n \\space (0) $ is less than $ 6nlog_2n + 6n \\space (1) $ of the regular mergesort or $ 8nlog_3n + 8n \\space (2) $ of the 3-way mergesort (e.g. when n < 9). However, we must also consider that for mergesort we need to allocate memory for the merging array, which takes usually more time than in-place swapping in practice."
   ]
  },
  {
   "cell_type": "markdown",
   "metadata": {},
   "source": [
    "(0) For loop is n op., while condition, swap, pointer shift is 3n op. => total $ 3n*n = 3n^2 $. Approximate number of steps for (1) is already stated in Cormen et al., so it's not interesting to rewrite so let's prove (2). As we found out before, the tree height + root = $ log_3n + 1 $. Apart from this let's find the number of operations of each merge:\n",
    "1. A loop that repeats at least n times because at each level we're filling in at least one element in all subarrays\n",
    "2. Inside this loop, we're doing $ 8n $ operations (3 comparisons in while loop, 2 comp. in if, 1 min, append, pointer shift) - everything nested in **while** loop => $ (3 + 2 + 1 + 1 + 1)*n = 8n $\n",
    "\n",
    "Then, total number of operations is tree height * number of operations at each tree level = $ (log_3n + 1)8n = 8nlog_3n + 8n $\n",
    "\n",
    "Another observation is that for \"real\" arrays, 3-way mergesort is slower compared to regular mergesort, whereas it's the opposite case on toy arrays. Looking at the number of steps, we can see that $ 6nlog_2n + 6n < 8nlog_3n + 8n => 6nlog_2n < 8nlog_3n + 2n => 6log_2n < 8log_3n + 2 => n ∈ ∅ $. \n",
    "\n",
    "This might happen because in 3-way mergesort I sort by hand when there are only 3 elems, running only 3 steps instead of 6. For small arrays, this time saving affects quite drstically when array size is small, and the tree height is small enough.\n",
    "\n",
    "In contrast, for bigger n (in real arrays or huge array), 3-way mergesort performs the worst because of the coefficients in the number of steps. Augmented is slightly better because it turns into insertion sort at some point, but still worse than 2-way mergesort because of the number of steps of 3-way which is involved at layers with bigger length is bigger than that of 2-way."
   ]
  },
  {
   "cell_type": "markdown",
   "metadata": {},
   "source": [
    "## Conclusions\n",
    "\n",
    "As shown in the experiment, augmented mergesort works very well on smaller arrays because of insertion sort kicking in at n small enough (specifically, n = 8), so that $ 3n^2 < 6nlog_2n + 6n $ (for $ n \\geq 8 => 3*64 = 192 >= 6*8*3 + 6*8 = 192  $). Thus, the best solution would be to do 2-way mergesort as it has least number of steps for big enough n and call insertion sort when n < 8. Let's \"test\" this hypothesis by comparing this algorithm to the previous three!"
   ]
  },
  {
   "cell_type": "code",
   "execution_count": 30,
   "metadata": {},
   "outputs": [],
   "source": [
    "def aug_merge_sort_2(arr):\n",
    "    if len(arr) < 9:\n",
    "        return insertion_sort(arr)\n",
    "    \n",
    "    center = len(arr) // 2\n",
    "    lhs = aug_merge_sort_2(arr[:center])\n",
    "    rhs = aug_merge_sort_2(arr[center:])\n",
    "    \n",
    "    merged_arr = merge_seqs(lhs, rhs)\n",
    "    \n",
    "    return merged_arr"
   ]
  },
  {
   "cell_type": "code",
   "execution_count": 32,
   "metadata": {},
   "outputs": [
    {
     "name": "stdout",
     "output_type": "stream",
     "text": [
      "Progress: testing algorithm 1 out of 1 sorted list i = 0 out of 1 "
     ]
    },
    {
     "data": {
      "text/html": [
       "<div>\n",
       "<style scoped>\n",
       "    .dataframe tbody tr th:only-of-type {\n",
       "        vertical-align: middle;\n",
       "    }\n",
       "\n",
       "    .dataframe tbody tr th {\n",
       "        vertical-align: top;\n",
       "    }\n",
       "\n",
       "    .dataframe thead th {\n",
       "        text-align: right;\n",
       "    }\n",
       "</style>\n",
       "<table border=\"1\" class=\"dataframe\">\n",
       "  <thead>\n",
       "    <tr style=\"text-align: right;\">\n",
       "      <th></th>\n",
       "      <th>Algorithm</th>\n",
       "      <th>Toy arrays</th>\n",
       "      <th>Real arrays</th>\n",
       "      <th>Huge array</th>\n",
       "    </tr>\n",
       "  </thead>\n",
       "  <tbody>\n",
       "    <tr>\n",
       "      <th>0</th>\n",
       "      <td>2-way, augmented</td>\n",
       "      <td>48.426690</td>\n",
       "      <td>205.163682</td>\n",
       "      <td>902.962888</td>\n",
       "    </tr>\n",
       "    <tr>\n",
       "      <th>1</th>\n",
       "      <td>3-way mergesort</td>\n",
       "      <td>116.921902</td>\n",
       "      <td>333.100367</td>\n",
       "      <td>1373.079348</td>\n",
       "    </tr>\n",
       "    <tr>\n",
       "      <th>2</th>\n",
       "      <td>Regular mergesort</td>\n",
       "      <td>69.097247</td>\n",
       "      <td>258.687633</td>\n",
       "      <td>1103.490727</td>\n",
       "    </tr>\n",
       "    <tr>\n",
       "      <th>3</th>\n",
       "      <td>Augmented mergesort</td>\n",
       "      <td>55.541439</td>\n",
       "      <td>256.020912</td>\n",
       "      <td>1126.927980</td>\n",
       "    </tr>\n",
       "  </tbody>\n",
       "</table>\n",
       "</div>"
      ],
      "text/plain": [
       "             Algorithm  Toy arrays  Real arrays   Huge array\n",
       "0     2-way, augmented   48.426690   205.163682   902.962888\n",
       "1      3-way mergesort  116.921902   333.100367  1373.079348\n",
       "2    Regular mergesort   69.097247   258.687633  1103.490727\n",
       "3  Augmented mergesort   55.541439   256.020912  1126.927980"
      ]
     },
     "execution_count": 32,
     "metadata": {},
     "output_type": "execute_result"
    }
   ],
   "source": [
    "new_runtimes = np.zeros((1, 3))\n",
    "\n",
    "for idx_arr, arr in enumerate([list_of_lists[:TOY_ARR[\"size\"]],\n",
    "                               list_of_lists[TOY_ARR[\"size\"]:TOY_ARR[\"size\"] + REAL_ARR[\"size\"]],\n",
    "                               list_of_lists[TOY_ARR[\"size\"] + REAL_ARR[\"size\"]:]\n",
    "                              ]):\n",
    "    for i in range(len(arr)):\n",
    "        start = time.time()\n",
    "        aug_merge_sort_2(arr[i])\n",
    "        end = time.time()\n",
    "        avg_runtime += end - start\n",
    "\n",
    "        stdout.write(\"\\rProgress: testing algorithm {0} out of 1 sorted list i = {1} out of {2} \".format(1, i, len(arr)))\n",
    "\n",
    "    avg_runtime /= len(arr)\n",
    "    new_runtimes[0][idx_arr] = avg_runtime * 1000\n",
    "    \n",
    "all_runtimes = np.vstack((new_runtimes, runtimes))\n",
    "    \n",
    "df = pd.DataFrame({\n",
    "    \"Algorithm\": [\"2-way, augmented\", \"3-way mergesort\", \"Regular mergesort\", \"Augmented mergesort\"],\n",
    "    \"Toy arrays\": all_runtimes[:, 0],\n",
    "    \"Real arrays\": all_runtimes[:, 1],\n",
    "    \"Huge array\": all_runtimes[:, 2]\n",
    "})\n",
    "\n",
    "df"
   ]
  },
  {
   "cell_type": "markdown",
   "metadata": {},
   "source": [
    "### YAY!"
   ]
  },
  {
   "cell_type": "markdown",
   "metadata": {},
   "source": [
    "## Appendix"
   ]
  },
  {
   "cell_type": "markdown",
   "metadata": {},
   "source": [
    "$ \\frac{1}{2} $ ***#induction*** and $ \\frac{1}{2} $ ***#deduction***: In task 4, I used deduction (by calculating number of steps for algorithms = premises) to make an argument why on arrays of substantial size, the sorting speeds differ. I used induction to explain why original 2-way mergesorting is slower than 3-way for smaller sizes, even if the number of steps present the opposite.<br/>\n",
    "***#plausibility***: I proposed a hypothesis on why bigger arrays tend to be sorted faster with bigger k's within some range. I explained why even though by the number of steps, ins. sort is better only for lengths less than 9, but in real life performace, it actually performs better than mergesort up to until about 43 elements.<br/>\n",
    "***#algorithms***: I used algorithmic thinking to apply divide-and-conquer paradigm to k-way sorting. I made sure that merge operation is still $ \\Theta(n) $ and overall complexity is $ \\Theta(nlogn) $. <br/>\n",
    "***#dataviz***: I created easy-readable graphs with named axes and appropriate axes ticks to compare the performance depending on k and array sizes. I also used a logarithmic scale to make the toy array line's features distinguishable.<br/>\n",
    "***#presentation***: I used LaTeX formatting to make my complexity calculations and other explanations readable and less error-prone. I added elaborate comments to explain lines where the code might be \"hard to digest\" or is a shortened word."
   ]
  }
 ],
 "metadata": {
  "kernelspec": {
   "display_name": "Python 3",
   "language": "python",
   "name": "python3"
  },
  "language_info": {
   "codemirror_mode": {
    "name": "ipython",
    "version": 3
   },
   "file_extension": ".py",
   "mimetype": "text/x-python",
   "name": "python",
   "nbconvert_exporter": "python",
   "pygments_lexer": "ipython3",
   "version": "3.7.0"
  }
 },
 "nbformat": 4,
 "nbformat_minor": 2
}
