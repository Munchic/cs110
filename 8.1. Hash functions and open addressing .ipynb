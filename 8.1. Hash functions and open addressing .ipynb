{
 "cells": [
  {
   "cell_type": "markdown",
   "metadata": {},
   "source": [
    "11.2-5\n",
    "Suppose that we are storing a set of n keys into a hash table of size m. Show that if the keys are drawn from a universe U with jU j > nm, then U has a subset of size n consisting of keys that all hash to the same slot, so that the worst-case searching time for hashing with chaining is ‚.n/.\n",
    "\n"
   ]
  },
  {
   "cell_type": "markdown",
   "metadata": {},
   "source": [
    "### The python dictionary:\n",
    "A python dictionary is a hash table.\n",
    "\n",
    "1. How does it resolve collisions?<br/>\n",
    "By using probing when the slot is occupied\n",
    "```\n",
    "j = (5*j) + 1 + perturb;\n",
    "perturb >>= PERTURB_SHIFT;\n",
    "use j % 2**i as the next table index;\n",
    "```\n",
    "\n",
    "\n",
    "2. The python dictionary is initially allocated a small amount of memory, what happens when it runs out of memory?\n",
    "It does not, unless limited by computer, because it is rescaled once the filled slots + dummy slots (where kv is removed) take up more than 2/3 of the whole array size, to then make the probing fast enough. Allocates size 4x and 2x for bigger sizes and re-hashes with a new mask `arr.size - 1`.\n",
    "\n",
    "### The other type of dictionary:\n",
    "Let's use a python dictionary (hash table) as a literal dictionary. In the dictionary, let's store all correctly spelled words (there are only roughly 100,000 English words in common use).\n",
    "\n",
    "1. How would we use this to find incorrectly spelled words in a long string of text?<br/>\n",
    "We would iterate through each word in O(n) and look it up in the dictionary in O(1).\n",
    "2. How does the computational complexity of a dictionary (hash table) compare to using a sorted array of all correctly spelled words?<br/>\n",
    "To find one word in a sorted array, we would need O(logn) for binary seach, leading to total complexit of O(nlogn)\n",
    "3. How might you use a list of common mis-spellings to automatically correct a mis-spelled word?<br/>\n",
    "We could create a dictionary that is a value of the key of the first dictionary and store all the common misspellings there. We could hash that list element-wise with values being the correct spelling of the word.\n",
    "\n",
    "### Cuckoo hashing:\n",
    "For a gentle introduction to cuckoo hashing see the citations given at the end of this question.\n",
    "\n",
    "Cuckoo hashing is an interesting extension to normal hashing. In a cuckoo hash table, we have two hash functions, a left hash function and a right hash function. First we try to store an element in the index given by the left hash function. If it is full then we try and store the element in the index given by the right hash function. If both are full then we can store the element in the first index and take the element that was previously there and then try to move it to it’s other hash function index.\n",
    "\n",
    "There are two variants of cuckoo hashing. Make sure to focus on the variant that uses only a single hash table.\n",
    "\n",
    "1. How does search in a cuckoo hash table work?<br/>\n",
    "It will try to hash the searched value with 2 or 3 chosen hash functions, and whichever hits the right spot, it will return the result. Therefore, look-up time is O(1).\n",
    "2. What is the worst case complexity of search in a cuckoo hash table?<br/>\n",
    "O(1) because after hashing with 3 different locations, if the item is not found, then we know that it's not there.\n",
    "3. (Optional) Implement the query function in python.\n",
    "4. (Optional) Implement the insert function in python."
   ]
  },
  {
   "cell_type": "code",
   "execution_count": null,
   "metadata": {},
   "outputs": [],
   "source": []
  }
 ],
 "metadata": {
  "kernelspec": {
   "display_name": "Python 3",
   "language": "python",
   "name": "python3"
  },
  "language_info": {
   "codemirror_mode": {
    "name": "ipython",
    "version": 3
   },
   "file_extension": ".py",
   "mimetype": "text/x-python",
   "name": "python",
   "nbconvert_exporter": "python",
   "pygments_lexer": "ipython3",
   "version": "3.7.0"
  }
 },
 "nbformat": 4,
 "nbformat_minor": 2
}
