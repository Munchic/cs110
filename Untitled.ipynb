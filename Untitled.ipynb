{
 "cells": [
  {
   "cell_type": "markdown",
   "metadata": {},
   "source": [
    "Currency trading\n",
    "(Slightly simplified version of 15.3-6 from Cormen et al.)\n",
    "\n",
    "Imagine that you wish to exchange one currency for another. You realize that instead of directly exchanging one currency for another, you might be better off making a series of trades through other currencies, winding up with the currency you want. Suppose that you can trade n different currencies, numbered 1,2,… ,n, where you start with currency 1 and wish to wind up with currency n. You are given, for each pair of currencies i and j , an exchange rate rij , meaning that if you start with d units of currency i , you can trade for drij units of currency j. **Note that the total number of trades allowed is limited to n. **\n",
    "\n",
    "​\n",
    "\n",
    "Assuming there is no commission, write python code to solve this problem using either a memoization or bottom-up strategy.\n",
    "\n",
    "​\n",
    "\n",
    "Here is some example data:\n",
    "\n",
    "USD 1 0.741 0.657 1.061 1.005<br/>\n",
    "EUR 1.349 1 0.888 1.433 1.366<br/>\n",
    "GBP 1.521 1.126 1 1.614 1.538<br/>\n",
    "CHF 0.942 0.698 0.619 1 0.953<br/>\n",
    "CAD 0.995 0.732 0.650 1.049 1"
   ]
  },
  {
   "cell_type": "code",
   "execution_count": 32,
   "metadata": {},
   "outputs": [],
   "source": [
    "def exchange_min_loss(start, end, price_table, amt=1):\n",
    "    max_conv_amt = price_table # base case, with chain length = 2\n",
    "    min_loss_path = [[0] * len(price_table)] * len(price_table)\n",
    "\n",
    "    for i in range(0, len(price_table)):\n",
    "        for j in range(i, len(price_table)):\n",
    "            for k in range(0, len(price_table)):\n",
    "                chained_rate = max_conv_amt[i][k] * max_conv_amt[k][j]\n",
    "                if chained_rate > max_conv_amt[i][j]:\n",
    "                    max_conv_amt[i][j] = chained_rate\n",
    "                    min_loss_path[i][j] = k\n",
    "\n",
    "    return amt * max_conv_amt[start][end]"
   ]
  },
  {
   "cell_type": "code",
   "execution_count": 33,
   "metadata": {},
   "outputs": [
    {
     "data": {
      "text/plain": [
       "101.22060000000002"
      ]
     },
     "execution_count": 33,
     "metadata": {},
     "output_type": "execute_result"
    }
   ],
   "source": [
    "price_table = [[1, 0.741, 0.657, 1.061, 1.007],\n",
    "               [1.349, 1, 0.888, 1.433, 1.366],\n",
    "               [1.521, 1.126, 1, 1.614, 1.538],\n",
    "               [0.942, 0.698, 0.619, 1, 0.953],\n",
    "               [0.942, 0.698, 0.619, 1, 0.953]]\n",
    "\n",
    "exchange_min_loss(0, 4, price_table, 100)"
   ]
  },
  {
   "cell_type": "code",
   "execution_count": null,
   "metadata": {},
   "outputs": [],
   "source": []
  }
 ],
 "metadata": {
  "kernelspec": {
   "display_name": "Python 3",
   "language": "python",
   "name": "python3"
  },
  "language_info": {
   "codemirror_mode": {
    "name": "ipython",
    "version": 3
   },
   "file_extension": ".py",
   "mimetype": "text/x-python",
   "name": "python",
   "nbconvert_exporter": "python",
   "pygments_lexer": "ipython3",
   "version": "3.7.0"
  }
 },
 "nbformat": 4,
 "nbformat_minor": 2
}
