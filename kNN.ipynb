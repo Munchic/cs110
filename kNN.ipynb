{
 "cells": [
  {
   "cell_type": "code",
   "execution_count": 45,
   "metadata": {},
   "outputs": [
    {
     "name": "stdout",
     "output_type": "stream",
     "text": [
      "12000\n"
     ]
    }
   ],
   "source": [
    "import csv\n",
    "import numpy as np\n",
    "\n",
    "ROW_CNT = 1000\n",
    "COL_CNT = 12\n",
    "\n",
    "X = np.zeros((ROW_CNT, COL_CNT))\n",
    "\n",
    "with open('raw_data.csv') as csv_file:\n",
    "    csv_reader = csv.reader(csv_file, delimiter=',')\n",
    "    for idx, row in enumerate(csv_reader):\n",
    "        if row[0] != '':\n",
    "            X[idx, :] = list(map(lambda x: int(x), row[:]))"
   ]
  },
  {
   "cell_type": "code",
   "execution_count": 65,
   "metadata": {},
   "outputs": [
    {
     "name": "stdout",
     "output_type": "stream",
     "text": [
      "Iteration 0\n",
      "[125 928  52  76]\n",
      "Iteration 1\n",
      "[884 695 440 124]\n",
      "Iteration 2\n",
      "[ 60 195 274 926]\n",
      "Iteration 3\n",
      "[361 314 604 159]\n",
      "Iteration 4\n",
      "[681  91 583 693]\n",
      "Iteration 5\n",
      "[ 46 648 750 983]\n",
      "Iteration 6\n",
      "[181 166  58 703]\n",
      "Iteration 7\n",
      "[155 439 815 329]\n",
      "Iteration 8\n",
      "[500 983 506 213]\n",
      "Iteration 9\n",
      "[805 376 788 682]\n",
      "[[7.47126437e-01 1.00000000e+00 1.13793103e+00 5.15747126e+01\n",
      "  7.47126437e-01 3.98850575e+00 6.86091954e+01 8.74712644e+00\n",
      "  8.23310345e+02 1.14942529e-02 1.12643678e+00 1.02298851e+00]\n",
      " [8.75739645e-01 6.86390533e-01 1.35502959e+00 5.05384615e+01\n",
      "  8.69822485e-01 3.39644970e+00 4.78402367e+01 2.09526627e+01\n",
      "  5.74082840e+02 5.79881657e-01 4.19526627e+00 2.76331361e+00]\n",
      " [4.46721311e-01 8.03278689e-01 1.51229508e+00 3.81844262e+01\n",
      "  3.97540984e-01 1.98360656e+00 3.47008197e+01 2.60327869e+01\n",
      "  4.16409836e+02 4.13934426e-01 4.29508197e+00 3.27459016e+00]\n",
      " [7.96000000e-01 5.02000000e-01 2.82000000e-01 5.19980000e+01\n",
      "  5.02000000e-01 1.01200000e+00 1.68820000e+01 2.46640000e+01\n",
      "  2.02584000e+02 0.00000000e+00 1.03000000e+00 9.96000000e-01]]\n"
     ]
    }
   ],
   "source": [
    "KNN_ITER = 10\n",
    "CLUSTER_CNT = 4\n",
    "\n",
    "def min_dist(data_point, centroids):\n",
    "    min_l2_dist = np.sum((data_point - centroids[0])**2)\n",
    "    closest_centroid = 0\n",
    "    \n",
    "    for i in range(1, centroids.shape[0]):\n",
    "        if np.sum((data_point - centroids[i])**2) < min_l2_dist:\n",
    "            min_l2_dist = np.sum((data_point - centroids[i])**2)\n",
    "            closest_centroid = i\n",
    "    \n",
    "    return closest_centroid\n",
    "\n",
    "def centr_fit(centroid, X, ):\n",
    "    \n",
    "\n",
    "\n",
    "centroids = np.zeros((CLUSTER_CNT, COL_CNT))\n",
    "best_centroids = np.zeros((CLUSTER_CNT, COL_CNT))\n",
    "classes = np.zeros((ROW_CNT, 1))\n",
    "\n",
    "for i in range(KNN_ITER):\n",
    "    print(\"Iteration\", i)\n",
    "    \n",
    "    idx = np.random.randint(ROW_CNT, size=CLUSTER_CNT)\n",
    "    print(idx)\n",
    "    centroids = X[idx, :]\n",
    "    \n",
    "    const_clusters = False\n",
    "    while not const_clusters:\n",
    "        const_clusters = True\n",
    "        for c in range(classes.shape[0]):\n",
    "            new_class = min_dist(X[c], centroids)\n",
    "            if new_class != classes[c]:\n",
    "                const_clusters = False\n",
    "            classes[c] = new_class\n",
    "            \n",
    "        new_centroids = np.zeros((CLUSTER_CNT, COL_CNT))\n",
    "        for j in range(centroids.shape[0]):\n",
    "            class_elem_cnt = 0\n",
    "            for c in range(classes.shape[0]):\n",
    "                if classes[c] == j:\n",
    "                    class_elem_cnt += 1\n",
    "                    new_centroids[j] += X[c]\n",
    "            \n",
    "            if class_elem_cnt != 0:\n",
    "                new_centroids[j] = new_centroids[j] / class_elem_cnt\n",
    "            centroids[j] = new_centroids[j]\n",
    "\n",
    "print(centroids)"
   ]
  },
  {
   "cell_type": "code",
   "execution_count": 66,
   "metadata": {},
   "outputs": [],
   "source": [
    "with open('kNN-out.csv', mode='w') as csv_file:\n",
    "    csv_writer = csv.writer(csv_file, delimiter=',')\n",
    "    for idx in range(centroids.shape[0]):\n",
    "        csv_writer.writerow(centroids[idx])"
   ]
  },
  {
   "cell_type": "code",
   "execution_count": 77,
   "metadata": {},
   "outputs": [],
   "source": [
    "with open('clustered-data.csv', mode='w') as csv_file:\n",
    "    csv_writer = csv.writer(csv_file, delimiter=',')\n",
    "    for idx in range(CLUSTER_CNT):\n",
    "        for c in range(classes.shape[0]):\n",
    "            if classes[c] == idx:\n",
    "                csv_writer.writerow(X[c].tolist() + [idx])"
   ]
  },
  {
   "cell_type": "code",
   "execution_count": null,
   "metadata": {},
   "outputs": [],
   "source": []
  }
 ],
 "metadata": {
  "kernelspec": {
   "display_name": "Python 3",
   "language": "python",
   "name": "python3"
  },
  "language_info": {
   "codemirror_mode": {
    "name": "ipython",
    "version": 3
   },
   "file_extension": ".py",
   "mimetype": "text/x-python",
   "name": "python",
   "nbconvert_exporter": "python",
   "pygments_lexer": "ipython3",
   "version": "3.7.0"
  }
 },
 "nbformat": 4,
 "nbformat_minor": 2
}
