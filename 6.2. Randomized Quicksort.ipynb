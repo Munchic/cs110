{
 "cells": [
  {
   "cell_type": "markdown",
   "metadata": {},
   "source": [
    "# Reflection poll\n",
    "\n",
    "**Briefly discuss the time complexity of quicksort under the following two scenarios using examples from class today and knowing that the input array is already sorted: a) we use an O(n) randomization strategy, and b) we combine both randomization and the median of 3.**\n",
    "\n",
    "In the case of a), randomizing the array allows us to avoid the worst case O(n^2) of deterministic quicksort when all elements are to one side of the pivot, and the recursion tree height would be O(n), leading to the overall complexity of O(n^2). If we do a), the expected runtime would be O(nlogn) + O(n) = O(nlogn). Doing b) is pointless in regards to a) because we have the same chance to set a particular element as a pivot, with or without median of 3."
   ]
  },
  {
   "cell_type": "markdown",
   "metadata": {},
   "source": [
    "# Pre-class"
   ]
  },
  {
   "cell_type": "code",
   "execution_count": 38,
   "metadata": {},
   "outputs": [
    {
     "name": "stdout",
     "output_type": "stream",
     "text": [
      "True\n",
      "0.0001643149998926674\n"
     ]
    }
   ],
   "source": [
    "import timeit\n",
    "import random\n",
    "\n",
    "eps = 1e-16\n",
    "N = 10\n",
    "locations = [0.0, 0.5, 1.0 - eps]\n",
    "\n",
    "\n",
    "def median(x1, x2, x3):\n",
    "    for a in range(7):\n",
    "        if x1 <= x2 <= x3:\n",
    "            return x2\n",
    "        # Every loop I'm shufflin\n",
    "        (x1, x2, x3) = (x2, x1, x3)\n",
    "        if a % 2:\n",
    "            (x1, x2, x3) = (x3, x1, x2)\n",
    "\n",
    "\n",
    "def qsort(lst):\n",
    "    indices = [(0, len(lst))]\n",
    "\n",
    "    while indices:\n",
    "        (frm, to) = indices.pop()\n",
    "        if frm == to:\n",
    "            continue\n",
    "\n",
    "        # Find the partition:\n",
    "        N = to - frm\n",
    "        inds = [frm + int(N * n) for n in locations]\n",
    "        values = [lst[ind] for ind in inds]\n",
    "        partition = median(*values)\n",
    "\n",
    "        # Split into lists:\n",
    "        lower = [a for a in lst[frm:to] if a < partition]\n",
    "        upper = [a for a in lst[frm:to] if a > partition]\n",
    "        counts = sum([1 for a in lst[frm:to] if a == partition])\n",
    "\n",
    "        ind1 = frm + len(lower)\n",
    "        ind2 = ind1 + counts\n",
    "\n",
    "        # Push back into correct place:\n",
    "        lst[frm:ind1] = lower\n",
    "        lst[ind1:ind2] = [partition] * counts\n",
    "        lst[ind2:to] = upper\n",
    "\n",
    "        # Enqueue other locations\n",
    "        indices.append((frm, ind1))\n",
    "        indices.append((ind2, to))\n",
    "    return lst\n",
    "\n",
    "\n",
    "def randomized_quicksort():\n",
    "    lst = [i for i in range(N)]\n",
    "    random.shuffle(lst)\n",
    "    return qsort(lst)\n",
    "\n",
    "\n",
    "def test_quicksort():\n",
    "    lst = randomized_quicksort()\n",
    "    return (lst == [i for i in range(N)])\n",
    "\n",
    "\n",
    "# Is our algorithm correct\n",
    "print(test_quicksort())\n",
    "\n",
    "# How fast is our algorithm\n",
    "print(timeit.timeit(randomized_quicksort, number=1))"
   ]
  },
  {
   "cell_type": "markdown",
   "metadata": {},
   "source": [
    "## Task 1\n",
    "**Change the quicksort algorithm in a way that you don’t separate the items that are equal to the partition.**<br/>\n",
    "Q. What is the time complexity of the new quicksort when dealing with a list of duplicates?<br/>\n",
    "A. O(1), since I just ignore the elemets equal to partition. Then, if all elements are duplicate, lower and upper arrays will be empty.\n",
    "\n",
    "Q. What was the time complexity before your modifications?<br/>\n",
    "A. O(1), since we would have empty subarrays to work with after the first iteration."
   ]
  },
  {
   "cell_type": "code",
   "execution_count": 116,
   "metadata": {},
   "outputs": [
    {
     "name": "stdout",
     "output_type": "stream",
     "text": [
      "True\n",
      "0.00013740499980485765\n"
     ]
    }
   ],
   "source": [
    "def qsort(lst):\n",
    "    indices = [(0, len(lst))]\n",
    "\n",
    "    while indices:\n",
    "        (frm, to) = indices.pop()\n",
    "        if frm == to:\n",
    "            continue\n",
    "\n",
    "        # Find the partition:\n",
    "        N = to - frm\n",
    "        inds = [frm + int(N * n) for n in locations]\n",
    "        values = [lst[ind] for ind in inds]\n",
    "        partition = median(*values)\n",
    "\n",
    "        # Split into lists:\n",
    "        lower = [a for a in lst[frm:to] if a < partition]\n",
    "        upper = [a for a in lst[frm:to] if a > partition]\n",
    "\n",
    "        ind1 = frm + len(lower)\n",
    "        ind2 = to - len(upper)\n",
    "\n",
    "        # Push back into correct place:\n",
    "        lst[frm:ind1] = lower\n",
    "        lst[ind1:ind2] = [partition] * (ind2 - ind1)\n",
    "        lst[ind2:to] = upper\n",
    "    \n",
    "\n",
    "        # Enqueue other locations\n",
    "        indices.append((frm, ind1))\n",
    "        indices.append((ind2, to))\n",
    "     \n",
    "    return lst\n",
    "\n",
    "print(test_quicksort())\n",
    "print(timeit.timeit(randomized_quicksort, number=1))"
   ]
  },
  {
   "cell_type": "markdown",
   "metadata": {},
   "source": [
    "## Task 2\n",
    "**Remove the median-of-3 partitioning, and just use the first element in the array.**<br/>\n",
    "Q. Does this modification change the time complexity? Explain your answer.<br/>\n",
    "A. No, but it does change the probability of the worst case scenario, since the chance of selecting a bad pivot is not 1/n^3 at each step, assuming that elements are all different.\n",
    "\n",
    "Q. Will this change the practical performance? Why or why not?<br/>\n",
    "A. Yes, we will get more or less even splits, then we would loop fewer times and perform fewer steps."
   ]
  },
  {
   "cell_type": "code",
   "execution_count": 86,
   "metadata": {},
   "outputs": [
    {
     "name": "stdout",
     "output_type": "stream",
     "text": [
      "True\n",
      "6.123099956312217e-05\n"
     ]
    }
   ],
   "source": [
    "def qsort(lst):\n",
    "    indices = [(0, len(lst))]\n",
    "\n",
    "    while indices:\n",
    "        (frm, to) = indices.pop()\n",
    "        if frm == to:\n",
    "            continue\n",
    "\n",
    "        # Find the partition:\n",
    "        N = to - frm\n",
    "        partition = lst[frm]\n",
    "        \n",
    "\n",
    "        # Split into lists:\n",
    "        lower = [a for a in lst[frm:to] if a < partition]\n",
    "        upper = [a for a in lst[frm:to] if a > partition]\n",
    "        counts = sum([1 for a in lst[frm:to] if a == partition])\n",
    "\n",
    "        ind1 = frm + len(lower)\n",
    "        ind2 = ind1 + counts\n",
    "\n",
    "        # Push back into correct place:\n",
    "        lst[frm:ind1] = lower\n",
    "        lst[ind1:ind2] = [partition] * counts\n",
    "        lst[ind2:to] = upper\n",
    "\n",
    "        # Enqueue other locations\n",
    "        indices.append((frm, ind1))\n",
    "        indices.append((ind2, to))\n",
    "        \n",
    "    return lst\n",
    "\n",
    "print(test_quicksort())\n",
    "print(timeit.timeit(randomized_quicksort, number=1))"
   ]
  },
  {
   "cell_type": "markdown",
   "metadata": {},
   "source": [
    "## Task 3\n",
    "**Implement a recursive version of qsort. Given the limitation of Python so that it can only make 500 recursive calls, estimate the maximum size of the list that can be sorted by Python. Explicitly state all assumptions you make in getting to an answer.**\n",
    "\n",
    "At each partitioning, we make two recursive calls. Therefore, the total number of recursive calls would be $2^1 + 2^2 + 2^3 + ... + 2^{log_2 n}$. $\\Sigma_{i=1}^{log_2 n} 2^i \\leq 500$ => $n \\leq 251$"
   ]
  },
  {
   "cell_type": "code",
   "execution_count": 108,
   "metadata": {},
   "outputs": [
    {
     "data": {
      "text/plain": [
       "[1, 2, 3, 4, 4, 5]"
      ]
     },
     "execution_count": 108,
     "metadata": {},
     "output_type": "execute_result"
    }
   ],
   "source": [
    "def partition(arr, begin, end):\n",
    "    idx = random.randint(begin, end - 1)\n",
    "    pivot_elem = arr[idx]\n",
    "    arr[idx], arr[end - 1] = arr[end - 1], arr[idx]\n",
    "    i = begin\n",
    "    for j in range(begin, end - 1):\n",
    "        if arr[j] < pivot_elem:\n",
    "            arr[i], arr[j] = arr[j], arr[i]\n",
    "            i += 1\n",
    "    arr[i], arr[end - 1] = arr[end - 1], arr[i]\n",
    "    return i\n",
    "\n",
    "def _quicksort(arr, begin, end):\n",
    "    if begin + 1 < end:\n",
    "        pivot = partition(arr, begin, end)\n",
    "        _quicksort(arr, begin, pivot)\n",
    "        _quicksort(arr, pivot + 1, end)\n",
    "        \n",
    "    return arr\n",
    "\n",
    "def quicksort(arr):\n",
    "    copy_arr = arr[:]\n",
    "    return _quicksort(copy_arr, 0, len(copy_arr))\n",
    "\n",
    "quicksort([1, 4, 5, 2, 3, 4])"
   ]
  },
  {
   "cell_type": "markdown",
   "metadata": {},
   "source": [
    "# Learning gist\n",
    "**Generate a short, concise synthesis of the learning (~300 words) from the class session that the student will share with classmates and submit via the form to the instructor.**\n",
    "\n",
    "In today's class, we compared deterministic and randomized quicksort. Doing such a comparison provided an insight why randomized quicksort would yield a better practical result, even though it takes additional O(n) to randomize the input. This is because in randomized quicksort, even if the input was intentionally put as a sorted array (for deterministic quicksort, this would be O(n^2)), we would still have the expected running time O(nlogn) when we do the probabilistic analysis. Instead of randomizing, we could also use the median-of-3 approach to deal with the sorted array case, in which we would more likely select a pivot that will provide a more even split."
   ]
  },
  {
   "cell_type": "code",
   "execution_count": null,
   "metadata": {},
   "outputs": [],
   "source": []
  }
 ],
 "metadata": {
  "kernelspec": {
   "display_name": "Python 3",
   "language": "python",
   "name": "python3"
  },
  "language_info": {
   "codemirror_mode": {
    "name": "ipython",
    "version": 3
   },
   "file_extension": ".py",
   "mimetype": "text/x-python",
   "name": "python",
   "nbconvert_exporter": "python",
   "pygments_lexer": "ipython3",
   "version": "3.7.0"
  }
 },
 "nbformat": 4,
 "nbformat_minor": 2
}
