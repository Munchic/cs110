{
 "cells": [
  {
   "cell_type": "markdown",
   "metadata": {},
   "source": [
    "# CS110 Session 1.2 - Analyzing elementary sorting algorithms\n",
    "**#cs110-sort**: Explain, implement, and analyze various sorting algorithms.<br/>\n",
    "**#cs110-optimalalgorithm**: Be able to discuss the relative merits of several algorithms or data structures that accomplish the same goal, and choose the best option given constraints.<br/>\n",
    "**#algorithms**: Apply algorithmic thinking strategies to solve problems and effectively implement working code. (C) FA"
   ]
  },
  {
   "cell_type": "markdown",
   "metadata": {},
   "source": [
    "## Pre-class"
   ]
  },
  {
   "cell_type": "markdown",
   "metadata": {},
   "source": [
    "### Imports"
   ]
  },
  {
   "cell_type": "code",
   "execution_count": 1,
   "metadata": {},
   "outputs": [],
   "source": [
    "import copy\n",
    "import time\n",
    "import matplotlib.pyplot as plt"
   ]
  },
  {
   "cell_type": "markdown",
   "metadata": {},
   "source": [
    "### Insertion sort"
   ]
  },
  {
   "cell_type": "code",
   "execution_count": 2,
   "metadata": {},
   "outputs": [],
   "source": [
    "def insertion_sort(arr):\n",
    "    start = time.time()\n",
    "    arr_cpy = copy.deepcopy(arr)\n",
    "    steps_count = 0\n",
    "    \n",
    "    for i in range(len(arr_cpy) - 1):\n",
    "        j = i + 1\n",
    "        while arr_cpy[j] < arr_cpy[j - 1] and j >= 1:\n",
    "            arr_cpy[j], arr_cpy[j - 1] = arr_cpy[j - 1], arr_cpy[j]\n",
    "            j -= 1\n",
    "            steps_count += 1\n",
    "            \n",
    "    end = time.time()\n",
    "    # print((end - start) * 1000, 'ms', sep='')\n",
    "    return arr_cpy, steps_count"
   ]
  },
  {
   "cell_type": "markdown",
   "metadata": {},
   "source": [
    "### Selection sort"
   ]
  },
  {
   "cell_type": "code",
   "execution_count": 3,
   "metadata": {},
   "outputs": [],
   "source": [
    "def min_index(subarr):\n",
    "    min_idx = 0\n",
    "    min_val = subarr[0]\n",
    "    for i in range(1, len(subarr)):\n",
    "        if subarr[i] < min_val:\n",
    "            min_idx = i\n",
    "            min_val = subarr[i]\n",
    "    return min_idx\n",
    "    \n",
    "def selection_sort(arr):\n",
    "    start = time.time()\n",
    "    arr_cpy = copy.deepcopy(arr)\n",
    "    for i in range(len(arr_cpy)):\n",
    "        min_idx = min_index(arr_cpy[i:]) + i\n",
    "        arr_cpy[i], arr_cpy[min_idx] = arr_cpy[min_idx], arr_cpy[i]\n",
    "        \n",
    "    end = time.time()\n",
    "    print((end - start) * 1000, 'ms', sep='')    \n",
    "    return arr_cpy"
   ]
  },
  {
   "cell_type": "markdown",
   "metadata": {},
   "source": [
    "### Bubble sort"
   ]
  },
  {
   "cell_type": "code",
   "execution_count": 4,
   "metadata": {},
   "outputs": [],
   "source": [
    "def bubble_sort(arr):\n",
    "    start = time.time()\n",
    "    arr_cpy = copy.deepcopy(arr)\n",
    "    steps_count = 0\n",
    "    for i in range(len(arr_cpy)):\n",
    "        for j in range(len(arr_cpy) - 1):\n",
    "            steps_count += 1\n",
    "            if arr_cpy[j] > arr_cpy[j + 1]:\n",
    "                arr_cpy[j], arr_cpy[j + 1] = arr_cpy[j + 1], arr_cpy[j]\n",
    "        \n",
    "                \n",
    "    end = time.time()\n",
    "    print((end - start) * 1000, 'ms', sep='')\n",
    "    return arr_cpy, steps_count"
   ]
  },
  {
   "cell_type": "markdown",
   "metadata": {},
   "source": [
    "### Tests"
   ]
  },
  {
   "cell_type": "code",
   "execution_count": 167,
   "metadata": {},
   "outputs": [
    {
     "name": "stdout",
     "output_type": "stream",
     "text": [
      "([-90, -7, -2, 0, 1, 1, 1, 2, 2, 2, 2, 3, 3, 4, 5, 6, 7, 8, 9, 10, 24, 56, 67, 865], 144)\n",
      "0.23603439331054688ms\n",
      "[-90, -7, -2, 0, 1, 1, 1, 2, 2, 2, 2, 3, 3, 4, 5, 6, 7, 8, 9, 10, 24, 56, 67, 865]\n",
      "0.2810955047607422ms\n",
      "([-90, -7, -2, 0, 1, 1, 1, 2, 2, 2, 2, 3, 3, 4, 5, 6, 7, 8, 9, 10, 24, 56, 67, 865], 552)\n"
     ]
    }
   ],
   "source": [
    "num_array = [5, 2, 3, -90, 7, 8, 1, 10, 67, 2, 3, 9, 865, 56, 24, 0, 1, -2, -7, 2, 2, 4, 6, 1]\n",
    "\n",
    "print(insertion_sort(num_array))\n",
    "print(selection_sort(num_array))\n",
    "print(bubble_sort(num_array))"
   ]
  },
  {
   "cell_type": "markdown",
   "metadata": {},
   "source": [
    "### Random lists storage generator"
   ]
  },
  {
   "cell_type": "code",
   "execution_count": 168,
   "metadata": {},
   "outputs": [],
   "source": [
    "from random import randint\n",
    "\n",
    "list_of_lists = []\n",
    "for i in range(1, 100):\n",
    "    list_of_lists.append([ 0 for j in range(randint(1, 256)) ])\n",
    "    \n",
    "for i in range(len(list_of_lists)):\n",
    "    for j in range(len(list_of_lists[i])):\n",
    "        list_of_lists[i][j] = randint(0, 10)"
   ]
  },
  {
   "cell_type": "code",
   "execution_count": 169,
   "metadata": {},
   "outputs": [
    {
     "name": "stdout",
     "output_type": "stream",
     "text": [
      "[[9, 9, 7, 4, 0, 9, 2, 9, 7, 2, 9, 4, 6, 10, 2, 3, 3, 9, 1, 1, 4, 7, 7, 2, 6, 8, 2, 7, 6, 4, 7, 8, 2, 3, 7, 5, 10, 6, 3, 0, 4, 10, 0, 5, 2, 10, 7, 10, 9, 5, 4, 4, 3, 6, 4, 1, 10, 10, 9, 2, 3, 2, 1, 0, 7, 8, 0, 0, 6, 8, 6, 7, 1, 0, 1, 2, 4, 7, 2, 9, 3, 2, 4, 7, 6, 9, 7, 10, 10, 10, 0, 6, 8, 3, 6, 1, 10, 6, 0, 2, 8, 9, 3, 1, 9, 10, 5, 8, 9, 2, 0, 8, 7, 8, 0, 10, 2, 7, 8, 9, 0, 4, 3, 1, 5, 1, 1, 8, 6, 10, 1, 3, 6, 10, 7, 7, 6, 0, 8, 8, 5, 2, 3, 7, 9, 1, 0, 0, 8, 4, 6, 9, 5, 7, 6, 5, 5, 2, 6, 0, 7, 4, 6, 9, 6, 8, 1, 6, 9, 2, 6, 2, 8, 6, 6, 0, 7, 10, 1, 9, 4, 1, 1, 0, 6, 1, 8, 2, 1, 4, 9, 8, 9, 6, 2, 10, 1, 7, 0, 2, 7, 10, 8, 5, 3, 9, 8, 5, 5, 5, 6, 7, 8, 4, 2, 3, 7, 9, 7, 1, 1, 9, 7, 3, 10, 7, 5, 8, 5], [4, 6, 2, 0, 5, 9, 0, 8, 9, 5, 3, 0, 10, 6, 2, 0, 6, 6, 5, 7, 7, 5, 8, 2, 5, 4, 9, 9, 6, 4, 7, 0, 10, 6, 8, 6, 10, 3, 1, 4, 6, 8, 10, 8, 4, 0, 0, 6, 5, 9, 10, 5, 7, 5, 10, 5, 10, 9, 4, 7, 8, 0, 5, 7, 6, 6, 7, 4, 0, 4, 5, 0, 2, 1, 4, 4, 6, 8, 2, 5, 8, 6, 8, 6, 0, 0, 9, 1, 7, 7, 4, 2, 10, 9, 9, 10, 8, 10, 0, 0, 5, 8, 2, 1, 3, 7, 2, 5, 8, 8, 4, 7, 2, 6, 9, 6, 1, 0, 8, 9, 2, 4, 3, 3, 8, 1, 8, 3, 5, 0, 9, 6, 9, 9, 8, 6, 10, 0, 0, 2, 7, 7, 0, 7, 6, 10, 9, 0, 3, 0, 6, 5, 6, 8, 9, 9, 8, 2, 0, 8, 5, 10, 3, 1, 8, 10, 2, 0, 2, 7, 2, 8, 4, 1, 6, 7, 1, 10, 5, 5, 9, 5, 7, 5, 1, 4, 1, 4, 6, 5, 5, 0, 8, 0, 7, 6, 9, 6, 7, 1, 0, 9, 9, 5, 7, 5, 9, 6, 9, 1, 3, 7, 2, 5, 8, 2, 4, 0, 7, 1, 7, 1, 3, 9, 9, 6, 10, 4, 9, 10, 9, 0, 5, 8, 2, 2, 10, 3, 5, 1, 3, 7, 0, 4, 2, 10, 5, 4, 0], [4, 2, 9, 5, 4, 9, 2, 0, 0, 6, 1, 5, 10, 4, 6, 2, 4, 10, 7, 7, 7, 3, 10, 10, 1, 3, 5, 9, 10, 3]]\n"
     ]
    }
   ],
   "source": [
    "print(list_of_lists[:3])"
   ]
  },
  {
   "cell_type": "markdown",
   "metadata": {},
   "source": [
    "### Run and store length and num of steps"
   ]
  },
  {
   "cell_type": "code",
   "execution_count": 170,
   "metadata": {},
   "outputs": [
    {
     "name": "stdout",
     "output_type": "stream",
     "text": [
      "[229, 249, 30, 34, 161, 67, 7, 86, 106, 181]\n",
      "[11808, 14363, 162, 336, 5874, 959, 9, 1704, 2751, 7388]\n"
     ]
    }
   ],
   "source": [
    "len_and_steps = []\n",
    "for i in range(len(list_of_lists)):\n",
    "    _, steps = insertion_sort(list_of_lists[i])\n",
    "    len_and_steps.append((len(list_of_lists[i]), steps))\n",
    "    \n",
    "lengths = [ x[0] for x in len_and_steps ]\n",
    "steps = [ x[1] for x in len_and_steps ]\n",
    "\n",
    "print(lengths[:10])\n",
    "print(steps[:10])"
   ]
  },
  {
   "cell_type": "markdown",
   "metadata": {},
   "source": [
    "### Plotting time!"
   ]
  },
  {
   "cell_type": "code",
   "execution_count": 171,
   "metadata": {},
   "outputs": [
    {
     "data": {
      "image/png": "[encoded data removed]",
      "text/plain": [
       "<Figure size 432x288 with 1 Axes>"
      ]
     },
     "metadata": {},
     "output_type": "display_data"
    }
   ],
   "source": [
    "plt.scatter(lengths, steps)\n",
    "plt.xlabel('Input length')\n",
    "plt.ylabel('Number of steps')\n",
    "plt.show()"
   ]
  },
  {
   "cell_type": "code",
   "execution_count": null,
   "metadata": {},
   "outputs": [],
   "source": []
  },
  {
   "cell_type": "code",
   "execution_count": null,
   "metadata": {},
   "outputs": [],
   "source": []
  }
 ],
 "metadata": {
  "kernelspec": {
   "display_name": "Python 3",
   "language": "python",
   "name": "python3"
  },
  "language_info": {
   "codemirror_mode": {
    "name": "ipython",
    "version": 3
   },
   "file_extension": ".py",
   "mimetype": "text/x-python",
   "name": "python",
   "nbconvert_exporter": "python",
   "pygments_lexer": "ipython3",
   "version": "3.7.0"
  }
 },
 "nbformat": 4,
 "nbformat_minor": 2
}
