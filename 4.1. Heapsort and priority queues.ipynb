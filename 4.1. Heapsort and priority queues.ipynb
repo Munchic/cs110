{
 "cells": [
  {
   "cell_type": "code",
   "execution_count": 63,
   "metadata": {},
   "outputs": [],
   "source": [
    "def max_heapify(arr, i):\n",
    "    l = 2*i + 1\n",
    "    r = 2*i + 2\n",
    "    \n",
    "    max_idx = i\n",
    "    if l < len(arr) and arr[l] > arr[i]:\n",
    "        max_idx = l\n",
    "    if r < len(arr) and arr[r] > arr[max_idx]:\n",
    "        max_idx = r\n",
    "        \n",
    "    if max_idx != i:\n",
    "        arr[max_idx], arr[i] = arr[i], arr[max_idx]\n",
    "        max_heapify(arr, max_idx)\n",
    "        \n",
    "def heap_push(arr, key):\n",
    "    arr.append(key)\n",
    "    arr[0], arr[-1] = arr[-1], arr[0]\n",
    "    max_heapify(arr, 0)\n",
    "    \n",
    "def heap_pop(arr):\n",
    "    max_val = arr[0]\n",
    "    arr[0], arr[-1] = arr[-1], arr[0]\n",
    "    arr.pop()\n",
    "    max_heapify(arr, 0)\n",
    "    \n",
    "    return max_val"
   ]
  },
  {
   "cell_type": "code",
   "execution_count": 69,
   "metadata": {},
   "outputs": [
    {
     "name": "stdout",
     "output_type": "stream",
     "text": [
      "92\n",
      "[85, 84, 49, 76, 49, 30, 31, 16, 39, 15, 21, 7, 29, 28]\n"
     ]
    }
   ],
   "source": [
    "heap = [92, 84, 85, 76, 49, 30, 49, 16, 39, 15, 21, 7, 29, 31, 28]\n",
    "print(heap_pop(heap))\n",
    "print(heap)"
   ]
  },
  {
   "cell_type": "code",
   "execution_count": 70,
   "metadata": {},
   "outputs": [
    {
     "name": "stdout",
     "output_type": "stream",
     "text": [
      "[84, 76, 49, 50, 49, 30, 31, 16, 39, 15, 21, 7, 29, 28, 85]\n"
     ]
    }
   ],
   "source": [
    "heap_push(heap, 50)\n",
    "print(heap)"
   ]
  },
  {
   "cell_type": "code",
   "execution_count": null,
   "metadata": {},
   "outputs": [],
   "source": []
  }
 ],
 "metadata": {
  "kernelspec": {
   "display_name": "Python 3",
   "language": "python",
   "name": "python3"
  },
  "language_info": {
   "codemirror_mode": {
    "name": "ipython",
    "version": 3
   },
   "file_extension": ".py",
   "mimetype": "text/x-python",
   "name": "python",
   "nbconvert_exporter": "python",
   "pygments_lexer": "ipython3",
   "version": "3.7.0"
  }
 },
 "nbformat": 4,
 "nbformat_minor": 2
}
