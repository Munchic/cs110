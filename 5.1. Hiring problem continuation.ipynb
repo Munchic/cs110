{
 "cells": [
  {
   "cell_type": "code",
   "execution_count": 7,
   "metadata": {},
   "outputs": [
    {
     "name": "stdout",
     "output_type": "stream",
     "text": [
      "[2, 2, 2, 2, 5, 6, 6, 8, 9, 13]\n"
     ]
    }
   ],
   "source": [
    "import random\n",
    "\n",
    "def not_sorted(copy_arr):\n",
    "    srt = True\n",
    "    for i in range(len(copy_arr) - 1):\n",
    "        if copy_arr[i] > copy_arr[i+1]:\n",
    "            srt = False\n",
    "    \n",
    "    return not srt\n",
    "    \n",
    "def worst_sort(arr):\n",
    "    copy_arr = arr[:]\n",
    "    while not_sorted(copy_arr):\n",
    "        random.shuffle(copy_arr)\n",
    "    \n",
    "    return copy_arr\n",
    "\n",
    "arr = [13, 2, 6, 2, 6, 8, 9, 2, 2, 5]\n",
    "print(worst_sort(arr))\n",
    "    "
   ]
  },
  {
   "cell_type": "markdown",
   "metadata": {},
   "source": [
    "**What is the best case complexity?**<br/>\n",
    "O(n) because we would shuffle the elements once by permuting each position.\n",
    "\n",
    "**What is the average case complexity?**<br/>\n",
    "$$ P(sorted) = \\dfrac{1}{n!} ⇒ O(n!) $$\n",
    "\n",
    "**For what size lists is this a feasible method?**<br/>\n",
    "Since O(n!) is a function that grows very very fast. At length 13, we already need $6*10^9$ operations to sort the array. For lower n (e.g. 2), this can be faster than merge-sort and insertion sort."
   ]
  },
  {
   "cell_type": "code",
   "execution_count": 9,
   "metadata": {},
   "outputs": [
    {
     "data": {
      "text/plain": [
       "1"
      ]
     },
     "execution_count": 9,
     "metadata": {},
     "output_type": "execute_result"
    }
   ],
   "source": [
    "import random\n",
    "\n",
    "def random_median(arr, delta):\n",
    "    sorted_arr = sorted(arr)\n",
    "    lnth = len(sorted_arr)\n",
    "    median = 0\n",
    "    \n",
    "    if lnth % 2 == 1:\n",
    "        median = sorted_arr[lnth // 2]\n",
    "    else:\n",
    "        median = (sorted_arr[lnth // 2] + sorted_arr[lnth // 2 + 1]) / 2\n",
    "        \n",
    "    rng = max(arr) - min(arr)\n",
    "    i = random.randint(0, lnth - 1)\n",
    "    trials = lnth * 3\n",
    "    \n",
    "    while abs(median - sorted_arr[i]) > rng * delta / 2 / 100 and trials > 0:\n",
    "        i = random.randint(0, lnth - 1)\n",
    "        trials -= 1\n",
    "    \n",
    "    if trials == 0:\n",
    "        return \"Not found\"\n",
    "    \n",
    "    return sorted_arr[i]\n",
    "\n",
    "arr = [1, 1, 1, 1]\n",
    "random_median(arr, 0.5)"
   ]
  },
  {
   "cell_type": "markdown",
   "metadata": {},
   "source": [
    "**Come up with your own policy of how many times to retry. What is your probability of failure? Does it scale with N or δ?**<br/>\n",
    "Probability of failure is $ \\dfrac{n-1}{n} $ for $ \\delta = 0 $.\n",
    "\n",
    "**Analyze the time complexity.**<br/>\n",
    "$$ P(median) = \\dfrac{1}{n} ⇒ O(n)$$\n",
    "\n",
    "**Analyze the space complexity. (Think about using the tools for time complexity on memory)**<br/>\n",
    "\n",
    "**(Optional) Are there any optimizations you can make without changing the space/time complexity?**<br/>\n"
   ]
  },
  {
   "cell_type": "code",
   "execution_count": null,
   "metadata": {},
   "outputs": [],
   "source": []
  },
  {
   "cell_type": "code",
   "execution_count": null,
   "metadata": {},
   "outputs": [],
   "source": []
  }
 ],
 "metadata": {
  "kernelspec": {
   "display_name": "Python 3",
   "language": "python",
   "name": "python3"
  },
  "language_info": {
   "codemirror_mode": {
    "name": "ipython",
    "version": 3
   },
   "file_extension": ".py",
   "mimetype": "text/x-python",
   "name": "python",
   "nbconvert_exporter": "python",
   "pygments_lexer": "ipython3",
   "version": "3.7.0"
  }
 },
 "nbformat": 4,
 "nbformat_minor": 2
}
