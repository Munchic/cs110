{
 "cells": [
  {
   "cell_type": "code",
   "execution_count": 7,
   "metadata": {},
   "outputs": [],
   "source": [
    "import math\n",
    "\n",
    "def max_heapify(arr, i):\n",
    "    l = 2*i + 1\n",
    "    r = 2*i + 2\n",
    "    \n",
    "    max_idx = i\n",
    "    if l < len(arr) and arr[l] > arr[i]:\n",
    "        max_idx = l\n",
    "    if r < len(arr) and arr[r] > arr[max_idx]:\n",
    "        max_idx = r\n",
    "        \n",
    "    if max_idx != i:\n",
    "        arr[max_idx], arr[i] = arr[i], arr[max_idx]\n",
    "        max_heapify(arr, max_idx)\n",
    "    \n",
    "def build_max_heap(arr):\n",
    "    for i in range(math.floor(len(arr) / 2), -1, -1):\n",
    "        max_heapify(arr, i)"
   ]
  },
  {
   "cell_type": "code",
   "execution_count": 8,
   "metadata": {},
   "outputs": [],
   "source": [
    "num_arr = [39, 85, 85, 16, 49, 7, 49, 92, 76, 15, 21, 30, 29, 31, 28]\n",
    "build_max_heap(num_arr)"
   ]
  },
  {
   "cell_type": "code",
   "execution_count": 9,
   "metadata": {},
   "outputs": [
    {
     "data": {
      "text/plain": [
       "[92, 85, 85, 76, 49, 30, 49, 16, 39, 15, 21, 7, 29, 31, 28]"
      ]
     },
     "execution_count": 9,
     "metadata": {},
     "output_type": "execute_result"
    }
   ],
   "source": [
    "num_arr"
   ]
  },
  {
   "cell_type": "code",
   "execution_count": null,
   "metadata": {},
   "outputs": [],
   "source": []
  }
 ],
 "metadata": {
  "kernelspec": {
   "display_name": "Python 3",
   "language": "python",
   "name": "python3"
  },
  "language_info": {
   "codemirror_mode": {
    "name": "ipython",
    "version": 3
   },
   "file_extension": ".py",
   "mimetype": "text/x-python",
   "name": "python",
   "nbconvert_exporter": "python",
   "pygments_lexer": "ipython3",
   "version": "3.7.0"
  }
 },
 "nbformat": 4,
 "nbformat_minor": 2
}
