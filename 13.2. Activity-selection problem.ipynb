{
 "cells": [
  {
   "cell_type": "code",
   "execution_count": 15,
   "metadata": {},
   "outputs": [],
   "source": [
    "from collections import deque\n",
    "\n",
    "def greedy_min_halls(sched):\n",
    "    busy_halls = deque()\n",
    "    min_halls = 0\n",
    "\n",
    "    for interval in sched:\n",
    "        if len(busy_halls) == 0:\n",
    "            busy_halls.append(interval[1])\n",
    "        elif interval[0] >= busy_halls[0]:\n",
    "            busy_halls.popleft()\n",
    "            busy_halls.append(interval[1])\n",
    "        else:\n",
    "            busy_halls.append(interval[1])\n",
    "\n",
    "        min_halls = max(min_halls, len(busy_halls))\n",
    "        \n",
    "    return min_halls    "
   ]
  },
  {
   "cell_type": "code",
   "execution_count": 17,
   "metadata": {},
   "outputs": [
    {
     "data": {
      "text/plain": [
       "3"
      ]
     },
     "execution_count": 17,
     "metadata": {},
     "output_type": "execute_result"
    }
   ],
   "source": [
    "sched = [\n",
    "    [1, 5],\n",
    "    [2, 5],\n",
    "    [6, 7],\n",
    "    [5, 6],\n",
    "    [3, 8],\n",
    "]\n",
    "   \n",
    "greedy_min_halls(sched)"
   ]
  },
  {
   "cell_type": "code",
   "execution_count": 24,
   "metadata": {},
   "outputs": [
    {
     "data": {
      "text/plain": [
       "3"
      ]
     },
     "execution_count": 24,
     "metadata": {},
     "output_type": "execute_result"
    }
   ],
   "source": [
    "from collections import deque\n",
    "\n",
    "def sort_by_end_time(S, E):\n",
    "    srt_sched = sorted(zip(S, E), key=lambda x: x[1])\n",
    "    return srt_sched\n",
    "\n",
    "def solution(S, E):\n",
    "    busy_chairs = deque()\n",
    "    min_chairs = 0\n",
    "\n",
    "    for start, end in sort_by_end_time(S, E):\n",
    "        if len(busy_chairs) == 0:\n",
    "            busy_chairs.append(end)\n",
    "        elif start >= busy_chairs[0]:\n",
    "            busy_chairs.popleft()\n",
    "            busy_chairs.append(end)\n",
    "        else:\n",
    "            busy_chairs.append(end)\n",
    "\n",
    "        min_chairs = max(min_chairs, len(busy_chairs))\n",
    "        \n",
    "    return min_chairs\n",
    "\n",
    "solution([1,2,6,5,3], [5,5,7,6,8])"
   ]
  },
  {
   "cell_type": "code",
   "execution_count": null,
   "metadata": {},
   "outputs": [],
   "source": []
  }
 ],
 "metadata": {
  "kernelspec": {
   "display_name": "Python 3",
   "language": "python",
   "name": "python3"
  },
  "language_info": {
   "codemirror_mode": {
    "name": "ipython",
    "version": 3
   },
   "file_extension": ".py",
   "mimetype": "text/x-python",
   "name": "python",
   "nbconvert_exporter": "python",
   "pygments_lexer": "ipython3",
   "version": "3.7.0"
  }
 },
 "nbformat": 4,
 "nbformat_minor": 2
}
