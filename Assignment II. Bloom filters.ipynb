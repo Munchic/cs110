{
 "cells": [
  {
   "cell_type": "markdown",
   "metadata": {},
   "source": [
    "# Bloom Filters\n",
    "\n",
    "Bloom filter is a data structure that can check if an element is **not** in the list in O(1) and on average much faster than an unsuccessful check of an element in open-addressing or chained hash tables. "
   ]
  },
  {
   "cell_type": "code",
   "execution_count": 4,
   "metadata": {},
   "outputs": [],
   "source": [
    "from random import randint\n",
    "\n",
    "class BloomFilter:\n",
    "# Private instances\n",
    "    __hash_init_vects = []\n",
    "    \n",
    "    \n",
    "\n",
    "    def __generate_hash_f(self):\n",
    "        for i in range(self.__num_filt):\n",
    "            __hash_init_vects.append(randint(1, 100))\n",
    "    \n",
    "# Public instances\n",
    "    def __init__(self, arr_sz, num_filt, num_elem):\n",
    "        self.__num_elem = arr_sz / 2 # check\n",
    "        self.__storage_arr = [] * arr_sz\n",
    "        if num_filt != None:\n",
    "            self.__num_filt = num_filt\n",
    "        else:\n",
    "            self.__num_filt = arr_sz / num_elem * log(2)\n",
    "        self.__generate_hash_f()\n",
    "        \n",
    "    def add_elem(self, elem):\n",
    "        \n",
    "    def search_elem(self, elem):\n",
    "        if __storage_arr\n",
    "\n"
   ]
  },
  {
   "cell_type": "code",
   "execution_count": null,
   "metadata": {},
   "outputs": [],
   "source": []
  }
 ],
 "metadata": {
  "kernelspec": {
   "display_name": "Python 3",
   "language": "python",
   "name": "python3"
  },
  "language_info": {
   "codemirror_mode": {
    "name": "ipython",
    "version": 3
   },
   "file_extension": ".py",
   "mimetype": "text/x-python",
   "name": "python",
   "nbconvert_exporter": "python",
   "pygments_lexer": "ipython3",
   "version": "3.7.0"
  }
 },
 "nbformat": 4,
 "nbformat_minor": 2
}
