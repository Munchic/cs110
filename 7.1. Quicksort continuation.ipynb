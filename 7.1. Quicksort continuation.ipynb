{
 "cells": [
  {
   "cell_type": "markdown",
   "metadata": {},
   "source": [
    "## Median Heap:\n",
    "\n",
    "Using the idea from lesson 3.2, we can use a pair of heaps to create a data structure which allows fast access to the median. Use the heapq module in python to create both a max-heap and a min-heap.\n",
    "\n",
    "1. Write a function add_to_median_heap(minh, maxh, elem). It must accept a min heap, a max heap, and an element to add.\n",
    "2. Write a function median(minh, maxh). It must return the median element.\n",
    "3. Use the testing code given below to test your functions.\n",
    "4. What’s the worst case complexity to build a median heap using add_to_median_heap?\n",
    "5. What’s the worst case complexity of median?\n",
    "6. (Optional) Is it possible to extend this idea to any percentile? If it is, then write code to do so. If it’s not possible, prove why it is not possible."
   ]
  },
  {
   "cell_type": "code",
   "execution_count": null,
   "metadata": {},
   "outputs": [],
   "source": [
    "import heapq\n",
    "\n",
    "def max_heapify(arr, i):\n",
    "    l = 2*i + 1\n",
    "    r = 2*i + 2\n",
    "    \n",
    "    max_idx = i\n",
    "    if l < len(arr) and arr[l] > arr[i]:\n",
    "        max_idx = l\n",
    "    if r < len(arr) and arr[r] > arr[max_idx]:\n",
    "        max_idx = r\n",
    "        \n",
    "    if max_idx != i:\n",
    "        arr[max_idx], arr[i] = arr[i], arr[max_idx]\n",
    "        max_heapify(arr, max_idx)\n",
    "        \n",
    "def heap_push(arr, key):\n",
    "    arr.append(key)\n",
    "    arr[0], arr[-1] = arr[-1], arr[0]\n",
    "    max_heapify(arr, 0)\n",
    "    \n",
    "def heap_pop(arr):\n",
    "    max_val = arr[0]\n",
    "    arr[0], arr[-1] = arr[-1], arr[0]\n",
    "    arr.pop()\n",
    "    max_heapify(arr, 0)\n",
    "    \n",
    "    return max_val\n",
    "\n",
    "def add_to_median_heap(minh, maxh, elem):\n",
    "    if len(minh) + len(maxh) == 0:\n",
    "        heap_push(minh, elem)\n",
    "        return\n",
    "    \n",
    "    if elem >= median(minh, maxh):\n",
    "        heap_push(minh, elem)\n",
    "    else:\n",
    "        heap_push(maxh, elem)\n",
    "        \n",
    "    if len(minh) > len(maxh) + 1\n",
    "        heap_pop\n",
    "        \n",
    "    median = len(minh)\n",
    "    \n",
    "def median(minh, maxh):\n",
    "    if len(minh) == len(maxh) + 1:\n",
    "        return minh[0]\n",
    "    if len(maxh) == len(minh) + 1:\n",
    "        return maxh[0]\n",
    "    return (minh[0] + maxh[0]) / 2"
   ]
  },
  {
   "cell_type": "code",
   "execution_count": null,
   "metadata": {},
   "outputs": [],
   "source": []
  }
 ],
 "metadata": {
  "kernelspec": {
   "display_name": "Python 3",
   "language": "python",
   "name": "python3"
  },
  "language_info": {
   "codemirror_mode": {
    "name": "ipython",
    "version": 3
   },
   "file_extension": ".py",
   "mimetype": "text/x-python",
   "name": "python",
   "nbconvert_exporter": "python",
   "pygments_lexer": "ipython3",
   "version": "3.7.0"
  }
 },
 "nbformat": 4,
 "nbformat_minor": 2
}
