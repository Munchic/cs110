{
 "cells": [
  {
   "cell_type": "code",
   "execution_count": 69,
   "metadata": {},
   "outputs": [],
   "source": [
    "def partition(arr, begin, end):\n",
    "    pivot_elem = arr[end - 1]\n",
    "    i = begin\n",
    "    for j in range(begin, end - 1):\n",
    "        if arr[j] < pivot_elem:\n",
    "            arr[i], arr[j] = arr[j], arr[i]\n",
    "            i += 1\n",
    "    arr[i], arr[end - 1] = arr[end - 1], arr[i]\n",
    "    return i\n",
    "\n",
    "def _quicksort(arr, begin, end):\n",
    "    if begin + 1 < end:\n",
    "        pivot = partition(arr, begin, end)\n",
    "        _quicksort(arr, begin, pivot)\n",
    "        _quicksort(arr, pivot + 1, end)\n",
    "        \n",
    "    return arr\n",
    "\n",
    "def quicksort(arr):\n",
    "    copy_arr = arr[:]\n",
    "    return _quicksort(copy_arr, 0, len(copy_arr))"
   ]
  },
  {
   "cell_type": "code",
   "execution_count": 71,
   "metadata": {},
   "outputs": [
    {
     "name": "stdout",
     "output_type": "stream",
     "text": [
      "[0, 2, 2, 3, 4, 4, 5, 5, 6, 6, 6, 8]\n"
     ]
    }
   ],
   "source": [
    "num_arr = [5, 4, 6, 2, 0, 6, 8, 2, 5, 6, 3, 4]\n",
    "print(quicksort(num_arr))"
   ]
  },
  {
   "cell_type": "code",
   "execution_count": null,
   "metadata": {},
   "outputs": [],
   "source": []
  }
 ],
 "metadata": {
  "kernelspec": {
   "display_name": "Python 3",
   "language": "python",
   "name": "python3"
  },
  "language_info": {
   "codemirror_mode": {
    "name": "ipython",
    "version": 3
   },
   "file_extension": ".py",
   "mimetype": "text/x-python",
   "name": "python",
   "nbconvert_exporter": "python",
   "pygments_lexer": "ipython3",
   "version": "3.7.0"
  }
 },
 "nbformat": 4,
 "nbformat_minor": 2
}
